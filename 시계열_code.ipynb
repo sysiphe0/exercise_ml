{
  "nbformat": 4,
  "nbformat_minor": 0,
  "metadata": {
    "colab": {
      "name": "시계열_code.ipynb",
      "provenance": [],
      "collapsed_sections": [],
      "authorship_tag": "ABX9TyNVVx2Lw+y5Ea5r5yOu5cZN",
      "include_colab_link": true
    },
    "kernelspec": {
      "name": "python3",
      "display_name": "Python 3"
    }
  },
  "cells": [
    {
      "cell_type": "markdown",
      "metadata": {
        "id": "view-in-github",
        "colab_type": "text"
      },
      "source": [
        "<a href=\"https://colab.research.google.com/github/sysiphe0/exercise_ml/blob/main/%EC%8B%9C%EA%B3%84%EC%97%B4_code.ipynb\" target=\"_parent\"><img src=\"https://colab.research.google.com/assets/colab-badge.svg\" alt=\"Open In Colab\"/></a>"
      ]
    },
    {
      "cell_type": "code",
      "metadata": {
        "id": "GwsjW1JKsRDZ"
      },
      "source": [
        "import numpy as np\r\n",
        "import pandas as pd\r\n",
        "import seaborn as sns\r\n",
        "import matplotlib.pyplot as plt\r\n",
        "%matplotlib inline\r\n",
        "import warnings\r\n",
        "warnings.filterwarnings(\"ignore\", category=RuntimeWarning)"
      ],
      "execution_count": 1,
      "outputs": []
    },
    {
      "cell_type": "code",
      "metadata": {
        "colab": {
          "base_uri": "https://localhost:8080/"
        },
        "id": "0oVhNYtLsbXl",
        "outputId": "3be456f8-6410-4d38-eba0-4d355d012100"
      },
      "source": [
        "from google.colab import drive\r\n",
        "drive.mount('/content/drive')"
      ],
      "execution_count": 2,
      "outputs": [
        {
          "output_type": "stream",
          "text": [
            "Mounted at /content/drive\n"
          ],
          "name": "stdout"
        }
      ]
    },
    {
      "cell_type": "code",
      "metadata": {
        "colab": {
          "base_uri": "https://localhost:8080/",
          "height": 204
        },
        "id": "3UjicmmWsYlr",
        "outputId": "5d65c591-3963-4aad-d767-51c5b38e5336"
      },
      "source": [
        "bitcoin_df = pd.read_csv(\"/content/drive/My Drive/market-price.csv\", names = ['day', 'price'])\r\n",
        "bitcoin_df.head()"
      ],
      "execution_count": 5,
      "outputs": [
        {
          "output_type": "execute_result",
          "data": {
            "text/html": [
              "<div>\n",
              "<style scoped>\n",
              "    .dataframe tbody tr th:only-of-type {\n",
              "        vertical-align: middle;\n",
              "    }\n",
              "\n",
              "    .dataframe tbody tr th {\n",
              "        vertical-align: top;\n",
              "    }\n",
              "\n",
              "    .dataframe thead th {\n",
              "        text-align: right;\n",
              "    }\n",
              "</style>\n",
              "<table border=\"1\" class=\"dataframe\">\n",
              "  <thead>\n",
              "    <tr style=\"text-align: right;\">\n",
              "      <th></th>\n",
              "      <th>day</th>\n",
              "      <th>price</th>\n",
              "    </tr>\n",
              "  </thead>\n",
              "  <tbody>\n",
              "    <tr>\n",
              "      <th>0</th>\n",
              "      <td>2017-08-27 00:00:00</td>\n",
              "      <td>4354.308333</td>\n",
              "    </tr>\n",
              "    <tr>\n",
              "      <th>1</th>\n",
              "      <td>2017-08-28 00:00:00</td>\n",
              "      <td>4391.673517</td>\n",
              "    </tr>\n",
              "    <tr>\n",
              "      <th>2</th>\n",
              "      <td>2017-08-29 00:00:00</td>\n",
              "      <td>4607.985450</td>\n",
              "    </tr>\n",
              "    <tr>\n",
              "      <th>3</th>\n",
              "      <td>2017-08-30 00:00:00</td>\n",
              "      <td>4594.987850</td>\n",
              "    </tr>\n",
              "    <tr>\n",
              "      <th>4</th>\n",
              "      <td>2017-08-31 00:00:00</td>\n",
              "      <td>4748.255000</td>\n",
              "    </tr>\n",
              "  </tbody>\n",
              "</table>\n",
              "</div>"
            ],
            "text/plain": [
              "                   day        price\n",
              "0  2017-08-27 00:00:00  4354.308333\n",
              "1  2017-08-28 00:00:00  4391.673517\n",
              "2  2017-08-29 00:00:00  4607.985450\n",
              "3  2017-08-30 00:00:00  4594.987850\n",
              "4  2017-08-31 00:00:00  4748.255000"
            ]
          },
          "metadata": {
            "tags": []
          },
          "execution_count": 5
        }
      ]
    },
    {
      "cell_type": "markdown",
      "metadata": {
        "id": "Bttd_JpEs8Z6"
      },
      "source": [
        "시계열차트의 x축은 'day'이고, y축은 'price'가 될겁니다.\r\n",
        "\r\n",
        "index : day\r\n",
        "\r\n",
        "value : price\r\n",
        "\r\n",
        "day는 단위가 '하루'이기에, 시계열 피처단위로 바꿉니다."
      ]
    },
    {
      "cell_type": "code",
      "metadata": {
        "colab": {
          "base_uri": "https://localhost:8080/",
          "height": 204
        },
        "id": "k8coWH7Tszeu",
        "outputId": "6a46e71a-f045-434c-a0b4-a2d2e70b81b5"
      },
      "source": [
        "bitcoin_df['day'] = pd.to_datetime(bitcoin_df['day'])\r\n",
        "bitcoin_df.head()"
      ],
      "execution_count": 7,
      "outputs": [
        {
          "output_type": "execute_result",
          "data": {
            "text/html": [
              "<div>\n",
              "<style scoped>\n",
              "    .dataframe tbody tr th:only-of-type {\n",
              "        vertical-align: middle;\n",
              "    }\n",
              "\n",
              "    .dataframe tbody tr th {\n",
              "        vertical-align: top;\n",
              "    }\n",
              "\n",
              "    .dataframe thead th {\n",
              "        text-align: right;\n",
              "    }\n",
              "</style>\n",
              "<table border=\"1\" class=\"dataframe\">\n",
              "  <thead>\n",
              "    <tr style=\"text-align: right;\">\n",
              "      <th></th>\n",
              "      <th>day</th>\n",
              "      <th>price</th>\n",
              "    </tr>\n",
              "  </thead>\n",
              "  <tbody>\n",
              "    <tr>\n",
              "      <th>0</th>\n",
              "      <td>2017-08-27</td>\n",
              "      <td>4354.308333</td>\n",
              "    </tr>\n",
              "    <tr>\n",
              "      <th>1</th>\n",
              "      <td>2017-08-28</td>\n",
              "      <td>4391.673517</td>\n",
              "    </tr>\n",
              "    <tr>\n",
              "      <th>2</th>\n",
              "      <td>2017-08-29</td>\n",
              "      <td>4607.985450</td>\n",
              "    </tr>\n",
              "    <tr>\n",
              "      <th>3</th>\n",
              "      <td>2017-08-30</td>\n",
              "      <td>4594.987850</td>\n",
              "    </tr>\n",
              "    <tr>\n",
              "      <th>4</th>\n",
              "      <td>2017-08-31</td>\n",
              "      <td>4748.255000</td>\n",
              "    </tr>\n",
              "  </tbody>\n",
              "</table>\n",
              "</div>"
            ],
            "text/plain": [
              "         day        price\n",
              "0 2017-08-27  4354.308333\n",
              "1 2017-08-28  4391.673517\n",
              "2 2017-08-29  4607.985450\n",
              "3 2017-08-30  4594.987850\n",
              "4 2017-08-31  4748.255000"
            ]
          },
          "metadata": {
            "tags": []
          },
          "execution_count": 7
        }
      ]
    },
    {
      "cell_type": "code",
      "metadata": {
        "colab": {
          "base_uri": "https://localhost:8080/",
          "height": 291
        },
        "id": "yl-395gks-NL",
        "outputId": "bcbbd6a1-6c01-4768-a90c-e23d6728e7f1"
      },
      "source": [
        "# 이제 day를 index로 지정합니다.\r\n",
        "bitcoin_df.index = bitcoin_df['day']\r\n",
        "bitcoin_df.set_index('day', inplace=True)\r\n",
        "# 차트 확인\r\n",
        "bitcoin_df.plot()\r\n",
        "plt.show()"
      ],
      "execution_count": 9,
      "outputs": [
        {
          "output_type": "display_data",
          "data": {
            "image/png": "[encoded data removed]",
            "text/plain": [
              "<Figure size 432x288 with 1 Axes>"
            ]
          },
          "metadata": {
            "tags": [],
            "needs_background": "light"
          }
        }
      ]
    },
    {
      "cell_type": "markdown",
      "metadata": {
        "id": "j0kaqB6htIgD"
      },
      "source": [
        "차트의 x축 시간만큼을 토대로, 이후 어떤 수치로 변할지 예측합니다.\r\n",
        "\r\n",
        "파이썬 라이브러리 중 대표적으로 쓰이는 ARIMA를 활용합니다. (상세 알고리즘은 생략합니다.)\r\n",
        "\r\n",
        " \r\n",
        "\r\n",
        "ARIMA(Autoregressvie integrated MovingAverage)\r\n",
        "\r\n",
        "AR(자기상관) : 이전의 값이 이후의 값에 영향을 미치고 있는 상황\r\n",
        "\r\n",
        "MA(이동평균) : 랜덤 변수의 평균값이 지속적으로 증가하거나 감소하는 추세\r\n",
        "\r\n",
        " \r\n",
        "\r\n",
        "차분은 비정상성을 정상성으로 만들기 위해, 관측값들의 차이를 계산하는 것.\r\n",
        "\r\n",
        "(아래 그림처럼 비정상성에서 정상성으로)"
      ]
    },
    {
      "cell_type": "code",
      "metadata": {
        "colab": {
          "base_uri": "https://localhost:8080/"
        },
        "id": "ugSFuUWHtGkc",
        "outputId": "ffec6adb-0256-4704-8bf9-6f34013018b9"
      },
      "source": [
        "from statsmodels.tsa.arima_model import ARIMA\r\n",
        "import statsmodels.api as sm\r\n",
        "\r\n",
        "# (AR=2, 차분=1, MA=2) 파라미터로 ARIMA 모델을 학습합니다.\r\n",
        "model = ARIMA(bitcoin_df.price.values, order=(2,1,2))\r\n",
        "\r\n",
        "#trend : constant를 가지고 있는지, c - constant / nc - no constant\r\n",
        "#disp : 수렴 정보를 나타냄\r\n",
        "model_fit = model.fit(trend='c', full_output=True, disp=True)\r\n",
        "print(model_fit.summary())"
      ],
      "execution_count": 10,
      "outputs": [
        {
          "output_type": "stream",
          "text": [
            "/usr/local/lib/python3.6/dist-packages/statsmodels/tools/_testing.py:19: FutureWarning: pandas.util.testing is deprecated. Use the functions in the public API at pandas.testing instead.\n",
            "  import pandas.util.testing as tm\n"
          ],
          "name": "stderr"
        },
        {
          "output_type": "stream",
          "text": [
            "                             ARIMA Model Results                              \n",
            "==============================================================================\n",
            "Dep. Variable:                    D.y   No. Observations:                  364\n",
            "Model:                 ARIMA(2, 1, 2)   Log Likelihood               -2780.074\n",
            "Method:                       css-mle   S.D. of innovations            501.536\n",
            "Date:                Sun, 13 Dec 2020   AIC                           5572.148\n",
            "Time:                        01:26:49   BIC                           5595.531\n",
            "Sample:                             1   HQIC                          5581.442\n",
            "                                                                              \n",
            "==============================================================================\n",
            "                 coef    std err          z      P>|z|      [0.025      0.975]\n",
            "------------------------------------------------------------------------------\n",
            "const          6.3906     26.944      0.237      0.813     -46.419      59.200\n",
            "ar.L1.D.y      0.4496      0.029     15.512      0.000       0.393       0.506\n",
            "ar.L2.D.y     -0.9622      0.023    -42.314      0.000      -1.007      -0.918\n",
            "ma.L1.D.y     -0.3889      0.031    -12.696      0.000      -0.449      -0.329\n",
            "ma.L2.D.y      0.9393      0.039     23.873      0.000       0.862       1.016\n",
            "                                    Roots                                    \n",
            "=============================================================================\n",
            "                  Real          Imaginary           Modulus         Frequency\n",
            "-----------------------------------------------------------------------------\n",
            "AR.1            0.2336           -0.9923j            1.0194           -0.2132\n",
            "AR.2            0.2336           +0.9923j            1.0194            0.2132\n",
            "MA.1            0.2070           -1.0108j            1.0318           -0.2178\n",
            "MA.2            0.2070           +1.0108j            1.0318            0.2178\n",
            "-----------------------------------------------------------------------------\n"
          ],
          "name": "stdout"
        }
      ]
    },
    {
      "cell_type": "code",
      "metadata": {
        "id": "Hpt1MuHatWFE"
      },
      "source": [
        ""
      ],
      "execution_count": null,
      "outputs": []
    }
  ]
}