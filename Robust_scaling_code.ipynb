{
  "nbformat": 4,
  "nbformat_minor": 0,
  "metadata": {
    "colab": {
      "name": "Robust_scaling_code.ipynb",
      "provenance": [],
      "collapsed_sections": [],
      "authorship_tag": "ABX9TyOfx35l302NSAe6Qa29QCZY",
      "include_colab_link": true
    },
    "kernelspec": {
      "name": "python3",
      "display_name": "Python 3"
    }
  },
  "cells": [
    {
      "cell_type": "markdown",
      "metadata": {
        "id": "view-in-github",
        "colab_type": "text"
      },
      "source": [
        "<a href=\"https://colab.research.google.com/github/sysiphe0/exercise_ml/blob/main/Robust_scaling_code.ipynb\" target=\"_parent\"><img src=\"https://colab.research.google.com/assets/colab-badge.svg\" alt=\"Open In Colab\"/></a>"
      ]
    },
    {
      "cell_type": "markdown",
      "metadata": {
        "id": "MfpXwV8_pQvC"
      },
      "source": [
        "##### 참고(출처) : Carl's Tech Bolg (https://wotres.tistory.com/)"
      ]
    },
    {
      "cell_type": "code",
      "metadata": {
        "id": "Khjt4jUWpP_W"
      },
      "source": [
        "# Robust scaling은 중앙값 0, Q3-Q1인 IQR이 1이 되도록 변환하는 방법 (아웃라이어의 영향을 최소화)\r\n",
        "import pandas as pd\r\n",
        "from sklearn.preprocessing import RobustScaler\r\n",
        "\r\n",
        "data = [[1., -2., 2.], [-2., 1., 3.], [4., 1., -2.]]\r\n",
        "df = pd.DataFrame(data, columns=['a','b','c'])\r\n",
        "colnames = df.columns"
      ],
      "execution_count": 2,
      "outputs": []
    },
    {
      "cell_type": "code",
      "metadata": {
        "colab": {
          "base_uri": "https://localhost:8080/"
        },
        "id": "-AUE_KrHyIeI",
        "outputId": "04565d07-500b-4850-cb63-8e5a767dd53e"
      },
      "source": [
        "scaler = RobustScaler()\r\n",
        "scaler.fit(df)\r\n",
        "# Robust scaling\r\n",
        "print(scaler.transform(df))"
      ],
      "execution_count": 4,
      "outputs": [
        {
          "output_type": "stream",
          "text": [
            "[[ 0.  -2.   0. ]\n",
            " [-1.   0.   0.4]\n",
            " [ 1.   0.  -1.6]]\n"
          ],
          "name": "stdout"
        }
      ]
    },
    {
      "cell_type": "code",
      "metadata": {
        "colab": {
          "base_uri": "https://localhost:8080/",
          "height": 178
        },
        "id": "G-KEdqjQyOVk",
        "outputId": "6658811a-26f4-49cf-d2ad-9bb878f49ee9"
      },
      "source": [
        "# 원래 데이터의 중앙값, IQR\r\n",
        "print('median : ', scaler.center_)\r\n",
        "print('IQR : ', scaler.scale_)\r\n",
        "new_colnames = [i+'_rs' for i in colnames]\r\n",
        "pd.concat([df, pd.DataFrame(scaler.fit_transform(df[colnames]), columns=new_colnames)], axis=1)"
      ],
      "execution_count": 5,
      "outputs": [
        {
          "output_type": "stream",
          "text": [
            "median :  [1. 1. 2.]\n",
            "IQR :  [3.  1.5 2.5]\n"
          ],
          "name": "stdout"
        },
        {
          "output_type": "execute_result",
          "data": {
            "text/html": [
              "<div>\n",
              "<style scoped>\n",
              "    .dataframe tbody tr th:only-of-type {\n",
              "        vertical-align: middle;\n",
              "    }\n",
              "\n",
              "    .dataframe tbody tr th {\n",
              "        vertical-align: top;\n",
              "    }\n",
              "\n",
              "    .dataframe thead th {\n",
              "        text-align: right;\n",
              "    }\n",
              "</style>\n",
              "<table border=\"1\" class=\"dataframe\">\n",
              "  <thead>\n",
              "    <tr style=\"text-align: right;\">\n",
              "      <th></th>\n",
              "      <th>a</th>\n",
              "      <th>b</th>\n",
              "      <th>c</th>\n",
              "      <th>a_rs</th>\n",
              "      <th>b_rs</th>\n",
              "      <th>c_rs</th>\n",
              "    </tr>\n",
              "  </thead>\n",
              "  <tbody>\n",
              "    <tr>\n",
              "      <th>0</th>\n",
              "      <td>1.0</td>\n",
              "      <td>-2.0</td>\n",
              "      <td>2.0</td>\n",
              "      <td>0.0</td>\n",
              "      <td>-2.0</td>\n",
              "      <td>0.0</td>\n",
              "    </tr>\n",
              "    <tr>\n",
              "      <th>1</th>\n",
              "      <td>-2.0</td>\n",
              "      <td>1.0</td>\n",
              "      <td>3.0</td>\n",
              "      <td>-1.0</td>\n",
              "      <td>0.0</td>\n",
              "      <td>0.4</td>\n",
              "    </tr>\n",
              "    <tr>\n",
              "      <th>2</th>\n",
              "      <td>4.0</td>\n",
              "      <td>1.0</td>\n",
              "      <td>-2.0</td>\n",
              "      <td>1.0</td>\n",
              "      <td>0.0</td>\n",
              "      <td>-1.6</td>\n",
              "    </tr>\n",
              "  </tbody>\n",
              "</table>\n",
              "</div>"
            ],
            "text/plain": [
              "     a    b    c  a_rs  b_rs  c_rs\n",
              "0  1.0 -2.0  2.0   0.0  -2.0   0.0\n",
              "1 -2.0  1.0  3.0  -1.0   0.0   0.4\n",
              "2  4.0  1.0 -2.0   1.0   0.0  -1.6"
            ]
          },
          "metadata": {
            "tags": []
          },
          "execution_count": 5
        }
      ]
    },
    {
      "cell_type": "code",
      "metadata": {
        "id": "IGQvdZvYyvz4"
      },
      "source": [
        ""
      ],
      "execution_count": null,
      "outputs": []
    }
  ]
}