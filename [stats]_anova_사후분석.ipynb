{
  "nbformat": 4,
  "nbformat_minor": 0,
  "metadata": {
    "colab": {
      "name": "[stats] anova_사후분석.ipynb",
      "provenance": [],
      "collapsed_sections": [],
      "authorship_tag": "ABX9TyO+6Mh+jPk0floGqFRaqbxK",
      "include_colab_link": true
    },
    "kernelspec": {
      "name": "python3",
      "display_name": "Python 3"
    }
  },
  "cells": [
    {
      "cell_type": "markdown",
      "metadata": {
        "id": "view-in-github",
        "colab_type": "text"
      },
      "source": [
        "<a href=\"https://colab.research.google.com/github/sysiphe0/exercise_ml/blob/main/%5Bstats%5D_anova_%EC%82%AC%ED%9B%84%EB%B6%84%EC%84%9D.ipynb\" target=\"_parent\"><img src=\"https://colab.research.google.com/assets/colab-badge.svg\" alt=\"Open In Colab\"/></a>"
      ]
    },
    {
      "cell_type": "markdown",
      "metadata": {
        "id": "knIMN-wEQO49"
      },
      "source": [
        "##### 출처: https://bongury.tistory.com/456 [봉구리밥스]"
      ]
    },
    {
      "cell_type": "code",
      "metadata": {
        "id": "XDY-UihvQHvB"
      },
      "source": [
        "from sklearn.datasets import load_iris\r\n",
        "import pandas as pd\r\n",
        "import numpy as np\r\n",
        "from statsmodels.formula.api import ols\r\n",
        "from statsmodels.stats.anova import anova_lm\r\n",
        "import statsmodels.stats.multicomp as mc\r\n",
        "\r\n",
        "datas = load_iris()"
      ],
      "execution_count": 18,
      "outputs": []
    },
    {
      "cell_type": "code",
      "metadata": {
        "id": "-DAK8vy_RaSp"
      },
      "source": [
        "cols = [i.replace(' ','.') for i in datas.feature_names] + ['Species']"
      ],
      "execution_count": 19,
      "outputs": []
    },
    {
      "cell_type": "code",
      "metadata": {
        "id": "SLikU9lVRpUN"
      },
      "source": [
        "df = np.hstack((datas.data, datas.target.reshape(-1,1)))"
      ],
      "execution_count": 21,
      "outputs": []
    },
    {
      "cell_type": "code",
      "metadata": {
        "id": "Qbp245NwQfj-"
      },
      "source": [
        "df = pd.DataFrame(df, columns=cols)"
      ],
      "execution_count": 22,
      "outputs": []
    },
    {
      "cell_type": "code",
      "metadata": {
        "colab": {
          "base_uri": "https://localhost:8080/",
          "height": 204
        },
        "id": "SXSFaVycQhkd",
        "outputId": "0a9824be-d67d-4d1f-ebea-6079fb1b12f9"
      },
      "source": [
        "df.head()"
      ],
      "execution_count": 23,
      "outputs": [
        {
          "output_type": "execute_result",
          "data": {
            "text/html": [
              "<div>\n",
              "<style scoped>\n",
              "    .dataframe tbody tr th:only-of-type {\n",
              "        vertical-align: middle;\n",
              "    }\n",
              "\n",
              "    .dataframe tbody tr th {\n",
              "        vertical-align: top;\n",
              "    }\n",
              "\n",
              "    .dataframe thead th {\n",
              "        text-align: right;\n",
              "    }\n",
              "</style>\n",
              "<table border=\"1\" class=\"dataframe\">\n",
              "  <thead>\n",
              "    <tr style=\"text-align: right;\">\n",
              "      <th></th>\n",
              "      <th>sepal.length.(cm)</th>\n",
              "      <th>sepal.width.(cm)</th>\n",
              "      <th>petal.length.(cm)</th>\n",
              "      <th>petal.width.(cm)</th>\n",
              "      <th>Species</th>\n",
              "    </tr>\n",
              "  </thead>\n",
              "  <tbody>\n",
              "    <tr>\n",
              "      <th>0</th>\n",
              "      <td>5.1</td>\n",
              "      <td>3.5</td>\n",
              "      <td>1.4</td>\n",
              "      <td>0.2</td>\n",
              "      <td>0.0</td>\n",
              "    </tr>\n",
              "    <tr>\n",
              "      <th>1</th>\n",
              "      <td>4.9</td>\n",
              "      <td>3.0</td>\n",
              "      <td>1.4</td>\n",
              "      <td>0.2</td>\n",
              "      <td>0.0</td>\n",
              "    </tr>\n",
              "    <tr>\n",
              "      <th>2</th>\n",
              "      <td>4.7</td>\n",
              "      <td>3.2</td>\n",
              "      <td>1.3</td>\n",
              "      <td>0.2</td>\n",
              "      <td>0.0</td>\n",
              "    </tr>\n",
              "    <tr>\n",
              "      <th>3</th>\n",
              "      <td>4.6</td>\n",
              "      <td>3.1</td>\n",
              "      <td>1.5</td>\n",
              "      <td>0.2</td>\n",
              "      <td>0.0</td>\n",
              "    </tr>\n",
              "    <tr>\n",
              "      <th>4</th>\n",
              "      <td>5.0</td>\n",
              "      <td>3.6</td>\n",
              "      <td>1.4</td>\n",
              "      <td>0.2</td>\n",
              "      <td>0.0</td>\n",
              "    </tr>\n",
              "  </tbody>\n",
              "</table>\n",
              "</div>"
            ],
            "text/plain": [
              "   sepal.length.(cm)  sepal.width.(cm)  ...  petal.width.(cm)  Species\n",
              "0                5.1               3.5  ...               0.2      0.0\n",
              "1                4.9               3.0  ...               0.2      0.0\n",
              "2                4.7               3.2  ...               0.2      0.0\n",
              "3                4.6               3.1  ...               0.2      0.0\n",
              "4                5.0               3.6  ...               0.2      0.0\n",
              "\n",
              "[5 rows x 5 columns]"
            ]
          },
          "metadata": {
            "tags": []
          },
          "execution_count": 23
        }
      ]
    },
    {
      "cell_type": "code",
      "metadata": {
        "colab": {
          "base_uri": "https://localhost:8080/",
          "height": 319
        },
        "id": "1NmHn8j1Q0vu",
        "outputId": "0d33a875-f2e5-47db-b97e-4268c80d24bb"
      },
      "source": [
        "df.boxplot(column=['sepal.width.(cm)'], by=['Species'])"
      ],
      "execution_count": 24,
      "outputs": [
        {
          "output_type": "execute_result",
          "data": {
            "text/plain": [
              "<matplotlib.axes._subplots.AxesSubplot at 0x7f931e9ac860>"
            ]
          },
          "metadata": {
            "tags": []
          },
          "execution_count": 24
        },
        {
          "output_type": "display_data",
          "data": {
            "image/png": "[encoded data removed]",
            "text/plain": [
              "<Figure size 432x288 with 1 Axes>"
            ]
          },
          "metadata": {
            "tags": [],
            "needs_background": "light"
          }
        }
      ]
    },
    {
      "cell_type": "code",
      "metadata": {
        "colab": {
          "base_uri": "https://localhost:8080/",
          "height": 111
        },
        "id": "LqET8ks-RCJt",
        "outputId": "92fb8029-d0a0-46c2-f819-877b1e638d7f"
      },
      "source": [
        "df.columns = ['SepalLength','SepalWidth','PetalLength','PetalWidth','Species']\r\n",
        "fit = ols(formula='SepalWidth ~ C(Species)', data=df).fit()\r\n",
        "anova_lm(fit)"
      ],
      "execution_count": 26,
      "outputs": [
        {
          "output_type": "execute_result",
          "data": {
            "text/html": [
              "<div>\n",
              "<style scoped>\n",
              "    .dataframe tbody tr th:only-of-type {\n",
              "        vertical-align: middle;\n",
              "    }\n",
              "\n",
              "    .dataframe tbody tr th {\n",
              "        vertical-align: top;\n",
              "    }\n",
              "\n",
              "    .dataframe thead th {\n",
              "        text-align: right;\n",
              "    }\n",
              "</style>\n",
              "<table border=\"1\" class=\"dataframe\">\n",
              "  <thead>\n",
              "    <tr style=\"text-align: right;\">\n",
              "      <th></th>\n",
              "      <th>df</th>\n",
              "      <th>sum_sq</th>\n",
              "      <th>mean_sq</th>\n",
              "      <th>F</th>\n",
              "      <th>PR(&gt;F)</th>\n",
              "    </tr>\n",
              "  </thead>\n",
              "  <tbody>\n",
              "    <tr>\n",
              "      <th>C(Species)</th>\n",
              "      <td>2.0</td>\n",
              "      <td>11.344933</td>\n",
              "      <td>5.672467</td>\n",
              "      <td>49.16004</td>\n",
              "      <td>4.492017e-17</td>\n",
              "    </tr>\n",
              "    <tr>\n",
              "      <th>Residual</th>\n",
              "      <td>147.0</td>\n",
              "      <td>16.962000</td>\n",
              "      <td>0.115388</td>\n",
              "      <td>NaN</td>\n",
              "      <td>NaN</td>\n",
              "    </tr>\n",
              "  </tbody>\n",
              "</table>\n",
              "</div>"
            ],
            "text/plain": [
              "               df     sum_sq   mean_sq         F        PR(>F)\n",
              "C(Species)    2.0  11.344933  5.672467  49.16004  4.492017e-17\n",
              "Residual    147.0  16.962000  0.115388       NaN           NaN"
            ]
          },
          "metadata": {
            "tags": []
          },
          "execution_count": 26
        }
      ]
    },
    {
      "cell_type": "markdown",
      "metadata": {
        "id": "FnQVnn60San-"
      },
      "source": [
        "## 사후분석"
      ]
    },
    {
      "cell_type": "code",
      "metadata": {
        "colab": {
          "base_uri": "https://localhost:8080/",
          "height": 534
        },
        "id": "Mt8riiFwSRfm",
        "outputId": "b9342336-edd8-4e7d-a318-f0bfd0466e8f"
      },
      "source": [
        "comp = mc.MultiComparison(df['SepalLength'], df['Species'])\r\n",
        "tukeyhsd = comp.tukeyhsd(alpha=0.05)\r\n",
        "tukeyhsd.summary()\r\n",
        "print(tukeyhsd)\r\n",
        "fig = tukeyhsd.plot_simultaneous()"
      ],
      "execution_count": 28,
      "outputs": [
        {
          "output_type": "stream",
          "text": [
            "Multiple Comparison of Means - Tukey HSD, FWER=0.05\n",
            "=================================================\n",
            "group1 group2 meandiff p-adj lower  upper  reject\n",
            "-------------------------------------------------\n",
            "   0.0    1.0     0.93 0.001 0.6862 1.1738   True\n",
            "   0.0    2.0    1.582 0.001 1.3382 1.8258   True\n",
            "   1.0    2.0    0.652 0.001 0.4082 0.8958   True\n",
            "-------------------------------------------------\n"
          ],
          "name": "stdout"
        },
        {
          "output_type": "display_data",
          "data": {
            "image/png": "[encoded data removed]",
            "text/plain": [
              "<Figure size 720x432 with 1 Axes>"
            ]
          },
          "metadata": {
            "tags": [],
            "needs_background": "light"
          }
        }
      ]
    },
    {
      "cell_type": "code",
      "metadata": {
        "id": "sZ81EhDcTQ1N"
      },
      "source": [
        ""
      ],
      "execution_count": null,
      "outputs": []
    }
  ]
}