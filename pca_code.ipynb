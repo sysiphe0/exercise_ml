{
  "nbformat": 4,
  "nbformat_minor": 0,
  "metadata": {
    "colab": {
      "name": "pca_code.ipynb",
      "provenance": [],
      "collapsed_sections": [],
      "authorship_tag": "ABX9TyN0+6jJTMxsUcVznVMSut/h",
      "include_colab_link": true
    },
    "kernelspec": {
      "name": "python3",
      "display_name": "Python 3"
    }
  },
  "cells": [
    {
      "cell_type": "markdown",
      "metadata": {
        "id": "view-in-github",
        "colab_type": "text"
      },
      "source": [
        "<a href=\"https://colab.research.google.com/github/sysiphe0/exercise_ml/blob/main/pca_code.ipynb\" target=\"_parent\"><img src=\"https://colab.research.google.com/assets/colab-badge.svg\" alt=\"Open In Colab\"/></a>"
      ]
    },
    {
      "cell_type": "markdown",
      "metadata": {
        "id": "dlQnKh4fk5WN"
      },
      "source": [
        "##### 참고(출처) : Carl's Tech Bolg (https://wotres.tistory.com/)"
      ]
    },
    {
      "cell_type": "code",
      "metadata": {
        "colab": {
          "base_uri": "https://localhost:8080/"
        },
        "id": "eQLqK5wkLHND",
        "outputId": "05038e2d-3aa0-4b89-f349-704fe88560c7"
      },
      "source": [
        "import numpy as np\r\n",
        "from sklearn.decomposition import PCA\r\n",
        "X = np.array([[-1, -1], [-2, -1], [-3, -2], [1, 1], [2, 1], [3, 2]])\r\n",
        "# n_components : 투영할 축 개수, / svd_solver : 알고리즘\r\n",
        "pca = PCA(n_components=2, random_state=1234, svd_solver='auto')\r\n",
        "x_trans = pca.fit_transform(X)\r\n",
        "# 전체 분산 총량중 첫번째 주성분의 분산설명력의 비율\r\n",
        "print(pca.explained_variance_ratio_[0])"
      ],
      "execution_count": 1,
      "outputs": [
        {
          "output_type": "stream",
          "text": [
            "0.9924428900898052\n"
          ],
          "name": "stdout"
        }
      ]
    },
    {
      "cell_type": "code",
      "metadata": {
        "colab": {
          "base_uri": "https://localhost:8080/"
        },
        "id": "hm61mvF7PfcG",
        "outputId": "03e67c99-ca15-4bfb-b934-a61620983ac7"
      },
      "source": [
        "# 모든 분산설명력 확인\r\n",
        "pca_explained_variance_ratio_2 = pca.explained_variance_/sum(pca.explained_variance_)\r\n",
        "print(pca_explained_variance_ratio_2)"
      ],
      "execution_count": 6,
      "outputs": [
        {
          "output_type": "stream",
          "text": [
            "[0.99244289 0.00755711]\n"
          ],
          "name": "stdout"
        }
      ]
    },
    {
      "cell_type": "code",
      "metadata": {
        "colab": {
          "base_uri": "https://localhost:8080/"
        },
        "id": "qwJRlBk5oBw0",
        "outputId": "16cda32c-c53e-4f11-d167-d2e283916bcf"
      },
      "source": [
        "# 누적 설명력\r\n",
        "print(pca.explained_variance_ratio_.cumsum())"
      ],
      "execution_count": 7,
      "outputs": [
        {
          "output_type": "stream",
          "text": [
            "[0.99244289 1.        ]\n"
          ],
          "name": "stdout"
        }
      ]
    },
    {
      "cell_type": "code",
      "metadata": {
        "colab": {
          "base_uri": "https://localhost:8080/"
        },
        "id": "rrVxsGWsobKD",
        "outputId": "58190081-4a61-45f6-8431-2f5ab861e389"
      },
      "source": [
        "# 90%이상 누적 설명력을 가지는 차원의 최소 개수\r\n",
        "print(np.argmax(pca.explained_variance_ratio_.cumsum() >= 0.9) + 1)"
      ],
      "execution_count": 8,
      "outputs": [
        {
          "output_type": "stream",
          "text": [
            "1\n"
          ],
          "name": "stdout"
        }
      ]
    },
    {
      "cell_type": "code",
      "metadata": {
        "colab": {
          "base_uri": "https://localhost:8080/"
        },
        "id": "kdVXKRwcokSx",
        "outputId": "ef5f3ef9-a62d-45b2-dc3d-16785b62fc88"
      },
      "source": [
        "# 고유값 = Eigenvalue : 설명정도\r\n",
        "# 두번째 주성분의 고유값\r\n",
        "print(pca.explained_variance_ratio_[1])"
      ],
      "execution_count": 9,
      "outputs": [
        {
          "output_type": "stream",
          "text": [
            "0.007557109910194766\n"
          ],
          "name": "stdout"
        }
      ]
    },
    {
      "cell_type": "code",
      "metadata": {
        "colab": {
          "base_uri": "https://localhost:8080/"
        },
        "id": "dUXOwCV5otnC",
        "outputId": "e9308986-dadb-4abe-f6b8-df07305b76e3"
      },
      "source": [
        "# 고유벡터 = Eigenvector : 축에 투영시 반영되는 방향 벡터값\r\n",
        "print(pca.components_)"
      ],
      "execution_count": 10,
      "outputs": [
        {
          "output_type": "stream",
          "text": [
            "[[-0.83849224 -0.54491354]\n",
            " [ 0.54491354 -0.83849224]]\n"
          ],
          "name": "stdout"
        }
      ]
    },
    {
      "cell_type": "code",
      "metadata": {
        "colab": {
          "base_uri": "https://localhost:8080/"
        },
        "id": "uu_Gfc81ozmi",
        "outputId": "f39b52cd-dea5-4f79-9541-506e3b36fdcd"
      },
      "source": [
        "# 첫번째 주성분에 대한 2번째 변수의 사영계수값\r\n",
        "print(pca.components_[0,1])"
      ],
      "execution_count": 11,
      "outputs": [
        {
          "output_type": "stream",
          "text": [
            "-0.5449135408239331\n"
          ],
          "name": "stdout"
        }
      ]
    },
    {
      "cell_type": "code",
      "metadata": {
        "colab": {
          "base_uri": "https://localhost:8080/"
        },
        "id": "l6PghDh1o7wS",
        "outputId": "d27aef9c-a6a3-4f4f-bc16-e428048c0af3"
      },
      "source": [
        "# 고유값과 고유 벡터로 투영되어 변환되는 값\r\n",
        "x_trans"
      ],
      "execution_count": 12,
      "outputs": [
        {
          "output_type": "execute_result",
          "data": {
            "text/plain": [
              "array([[ 1.38340578,  0.2935787 ],\n",
              "       [ 2.22189802, -0.25133484],\n",
              "       [ 3.6053038 ,  0.04224385],\n",
              "       [-1.38340578, -0.2935787 ],\n",
              "       [-2.22189802,  0.25133484],\n",
              "       [-3.6053038 , -0.04224385]])"
            ]
          },
          "metadata": {
            "tags": []
          },
          "execution_count": 12
        }
      ]
    },
    {
      "cell_type": "code",
      "metadata": {
        "id": "zN972lKQpD4R"
      },
      "source": [
        ""
      ],
      "execution_count": null,
      "outputs": []
    }
  ]
}