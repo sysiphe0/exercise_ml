{
  "nbformat": 4,
  "nbformat_minor": 0,
  "metadata": {
    "colab": {
      "name": "LogisticRegression_code.ipynb",
      "provenance": [],
      "collapsed_sections": [],
      "authorship_tag": "ABX9TyMt2sT/jgMiUhcb8br3HPW5",
      "include_colab_link": true
    },
    "kernelspec": {
      "name": "python3",
      "display_name": "Python 3"
    }
  },
  "cells": [
    {
      "cell_type": "markdown",
      "metadata": {
        "id": "view-in-github",
        "colab_type": "text"
      },
      "source": [
        "<a href=\"https://colab.research.google.com/github/sysiphe0/exercise_ml/blob/main/LogisticRegression_code.ipynb\" target=\"_parent\"><img src=\"https://colab.research.google.com/assets/colab-badge.svg\" alt=\"Open In Colab\"/></a>"
      ]
    },
    {
      "cell_type": "markdown",
      "metadata": {
        "id": "4GKeqo5Hzcmh"
      },
      "source": [
        "##### 참고(출처) : Carl's Tech Bolg (https://wotres.tistory.com/)"
      ]
    },
    {
      "cell_type": "code",
      "metadata": {
        "id": "A8hMl3suzby5"
      },
      "source": [
        "from sklearn import datasets\r\n",
        "from sklearn.linear_model import LogisticRegression\r\n",
        "from sklearn.model_selection import train_test_split"
      ],
      "execution_count": 1,
      "outputs": []
    },
    {
      "cell_type": "code",
      "metadata": {
        "id": "yb8LtoG0zn9U"
      },
      "source": [
        "breast_cancer = datasets.load_breast_cancer()\r\n",
        "X = breast_cancer.data\r\n",
        "y = breast_cancer.target\r\n",
        "\r\n",
        "train_x, test_x, train_y, test_y = train_test_split(X, y, test_size=0.1, random_state=0)"
      ],
      "execution_count": 3,
      "outputs": []
    },
    {
      "cell_type": "code",
      "metadata": {
        "colab": {
          "base_uri": "https://localhost:8080/"
        },
        "id": "iSoJDFLMz8L7",
        "outputId": "95a79d1c-f11f-4992-d948-855c11ad9f0e"
      },
      "source": [
        "# C : Inverse of regularization, 절편 없으면 : fit_intercept=False\r\n",
        "lor = LogisticRegression(penalty='l2', C=100000, random_state=98709, solver='newton-cg')\r\n",
        "lor.fit(train_x, train_y)"
      ],
      "execution_count": 12,
      "outputs": [
        {
          "output_type": "stream",
          "text": [
            "/usr/local/lib/python3.6/dist-packages/sklearn/utils/optimize.py:212: ConvergenceWarning: newton-cg failed to converge. Increase the number of iterations.\n",
            "  \"number of iterations.\", ConvergenceWarning)\n"
          ],
          "name": "stderr"
        },
        {
          "output_type": "execute_result",
          "data": {
            "text/plain": [
              "LogisticRegression(C=100000, class_weight=None, dual=False, fit_intercept=True,\n",
              "                   intercept_scaling=1, l1_ratio=None, max_iter=100,\n",
              "                   multi_class='auto', n_jobs=None, penalty='l2',\n",
              "                   random_state=98709, solver='newton-cg', tol=0.0001,\n",
              "                   verbose=0, warm_start=False)"
            ]
          },
          "metadata": {
            "tags": []
          },
          "execution_count": 12
        }
      ]
    },
    {
      "cell_type": "code",
      "metadata": {
        "colab": {
          "base_uri": "https://localhost:8080/"
        },
        "id": "lK3Lz0d_0Ufu",
        "outputId": "70872c8a-b4df-48b3-ab10-fbc1a7a96858"
      },
      "source": [
        "# 예측\r\n",
        "preds = lor.predict(test_x)\r\n",
        "preds"
      ],
      "execution_count": 19,
      "outputs": [
        {
          "output_type": "execute_result",
          "data": {
            "text/plain": [
              "array([0, 1, 1, 1, 1, 1, 1, 1, 1, 1, 1, 1, 1, 1, 1, 0, 1, 0, 0, 0, 0, 0,\n",
              "       1, 1, 0, 1, 1, 0, 1, 0, 1, 0, 1, 0, 1, 0, 1, 0, 1, 0, 0, 1, 0, 1,\n",
              "       1, 0, 1, 1, 1, 0, 0, 1, 0, 1, 1, 1, 1])"
            ]
          },
          "metadata": {
            "tags": []
          },
          "execution_count": 19
        }
      ]
    },
    {
      "cell_type": "code",
      "metadata": {
        "colab": {
          "base_uri": "https://localhost:8080/"
        },
        "id": "v1PzBYiv1Sj3",
        "outputId": "83c5433f-3b68-4ec9-b4a0-46ed7ed5c07c"
      },
      "source": [
        "# 예측 확률\r\n",
        "preds = lor.predict_proba(test_x)\r\n",
        "preds"
      ],
      "execution_count": 22,
      "outputs": [
        {
          "output_type": "execute_result",
          "data": {
            "text/plain": [
              "array([[9.99999785e-01, 2.15114921e-07],\n",
              "       [4.14329475e-03, 9.95856705e-01],\n",
              "       [1.24683124e-06, 9.99998753e-01],\n",
              "       [2.70431569e-04, 9.99729568e-01],\n",
              "       [1.48140840e-08, 9.99999985e-01],\n",
              "       [1.06776216e-04, 9.99893224e-01],\n",
              "       [5.41624192e-08, 9.99999946e-01],\n",
              "       [3.12164821e-06, 9.99996878e-01],\n",
              "       [1.24493947e-05, 9.99987551e-01],\n",
              "       [1.49686263e-10, 1.00000000e+00],\n",
              "       [6.18878642e-04, 9.99381121e-01],\n",
              "       [9.09210301e-03, 9.90907897e-01],\n",
              "       [8.49866166e-09, 9.99999992e-01],\n",
              "       [6.08149979e-02, 9.39185002e-01],\n",
              "       [1.11587674e-01, 8.88412326e-01],\n",
              "       [9.99999877e-01, 1.23161806e-07],\n",
              "       [5.83496707e-07, 9.99999417e-01],\n",
              "       [1.00000000e+00, 1.60670355e-15],\n",
              "       [9.99999941e-01, 5.85399403e-08],\n",
              "       [1.00000000e+00, 1.27909324e-24],\n",
              "       [9.99999994e-01, 6.15748303e-09],\n",
              "       [9.98077879e-01, 1.92212143e-03],\n",
              "       [1.72778379e-04, 9.99827222e-01],\n",
              "       [1.55520402e-05, 9.99984448e-01],\n",
              "       [9.99999869e-01, 1.30790035e-07],\n",
              "       [1.23096023e-05, 9.99987690e-01],\n",
              "       [1.72991204e-07, 9.99999827e-01],\n",
              "       [9.97532117e-01, 2.46788273e-03],\n",
              "       [4.20447279e-06, 9.99995796e-01],\n",
              "       [1.00000000e+00, 1.37112385e-16],\n",
              "       [2.98200653e-08, 9.99999970e-01],\n",
              "       [1.00000000e+00, 9.80607774e-14],\n",
              "       [1.83228492e-01, 8.16771508e-01],\n",
              "       [9.99997691e-01, 2.30870436e-06],\n",
              "       [6.25436147e-10, 9.99999999e-01],\n",
              "       [9.99999984e-01, 1.55376597e-08],\n",
              "       [9.90390524e-03, 9.90096095e-01],\n",
              "       [9.99999995e-01, 4.89526974e-09],\n",
              "       [1.98746760e-04, 9.99801253e-01],\n",
              "       [1.00000000e+00, 1.53375045e-10],\n",
              "       [9.99176019e-01, 8.23981083e-04],\n",
              "       [7.76220788e-09, 9.99999992e-01],\n",
              "       [9.99868048e-01, 1.31952439e-04],\n",
              "       [3.92758943e-08, 9.99999961e-01],\n",
              "       [9.37695385e-03, 9.90623046e-01],\n",
              "       [1.00000000e+00, 9.06923203e-28],\n",
              "       [2.21933583e-10, 1.00000000e+00],\n",
              "       [4.26016446e-04, 9.99573984e-01],\n",
              "       [2.11341728e-06, 9.99997887e-01],\n",
              "       [9.99999996e-01, 3.96610446e-09],\n",
              "       [9.99870200e-01, 1.29799677e-04],\n",
              "       [1.45422782e-01, 8.54577218e-01],\n",
              "       [1.00000000e+00, 8.91027705e-13],\n",
              "       [6.42432578e-05, 9.99935757e-01],\n",
              "       [2.82341798e-06, 9.99997177e-01],\n",
              "       [9.59573954e-06, 9.99990404e-01],\n",
              "       [1.41840707e-06, 9.99998582e-01]])"
            ]
          },
          "metadata": {
            "tags": []
          },
          "execution_count": 22
        }
      ]
    },
    {
      "cell_type": "code",
      "metadata": {
        "colab": {
          "base_uri": "https://localhost:8080/"
        },
        "id": "cczF5ZiU1cFT",
        "outputId": "38f93b6a-3323-48ed-993f-548d30783716"
      },
      "source": [
        "# logit 로짓 값들의 평균\r\n",
        "# observation별 logit 값의 평균\r\n",
        "# odds 는 실패에 비해 성공할 확률의 비 : p/(1-p)\r\n",
        "# odds에 log를 취한값이 바로 로짓 : Log(p)\r\n",
        "# 회귀분석의 y=ax+b가 ln(p/1-p) = ax+b 가 된 것 => 즉, 로지스틱 회귀분석은 일반회귀 함수를 로짓으로 변형한 분석법\r\n",
        "import math\r\n",
        "import numpy as np\r\n",
        "arr = []\r\n",
        "for pred in preds:\r\n",
        "  # 만약에 아주 확률이 1에 가까워 1이 나온다면 최대한 1보다 작은 가장 큰 값 입력\r\n",
        "  arr.append(math.log(float(pred[1])/float(1-pred[1])))\r\n",
        "print(np.mean(arr))\r\n",
        "# 또는\r\n",
        "print(np.mean(np.log(preds[:,1]/preds[:,0])))"
      ],
      "execution_count": 23,
      "outputs": [
        {
          "output_type": "stream",
          "text": [
            "-0.7913070742709037\n",
            "-0.7913070742709037\n"
          ],
          "name": "stdout"
        }
      ]
    },
    {
      "cell_type": "code",
      "metadata": {
        "colab": {
          "base_uri": "https://localhost:8080/"
        },
        "id": "iWK1buyh2a5W",
        "outputId": "c5aea7af-9afb-44af-84bb-44c1d1158f39"
      },
      "source": [
        "# 가장 영향이 큰(기준 : Odds Ratio) 독립변수 => e의 지수에 해당 변수가 위치하므로 np.exp 를 사용한다.\r\n",
        "cols = breast_cancer.feature_names\r\n",
        "print(cols[np.exp(lor.coef_).argmax()])"
      ],
      "execution_count": 30,
      "outputs": [
        {
          "output_type": "stream",
          "text": [
            "concavity error\n"
          ],
          "name": "stdout"
        }
      ]
    },
    {
      "cell_type": "code",
      "metadata": {
        "colab": {
          "base_uri": "https://localhost:8080/"
        },
        "id": "7wZKsGyM2n7M",
        "outputId": "ffcd4c26-893a-465b-9b6a-912fb6181874"
      },
      "source": [
        "# 변수에 대한 계수\r\n",
        "lor.coef_"
      ],
      "execution_count": 31,
      "outputs": [
        {
          "output_type": "execute_result",
          "data": {
            "text/plain": [
              "array([[ 2.09739683e+00, -1.80355047e-01,  3.55900294e-01,\n",
              "        -3.11983971e-02, -2.58219784e+01,  4.93526795e+01,\n",
              "        -3.23324964e+01, -5.64773096e+01,  2.52736249e+00,\n",
              "         3.26928313e+00, -1.38543409e+01,  1.54617233e+00,\n",
              "         2.93823040e+00, -2.88451708e-01, -1.81693523e+01,\n",
              "         4.07532734e+01,  4.97303471e+01, -1.67553913e+01,\n",
              "         2.41256779e+01,  9.74603805e+00, -5.11843833e-01,\n",
              "        -3.98511542e-01, -2.74985881e-01,  1.03998229e-03,\n",
              "        -5.09329710e+01,  6.04276994e+00, -1.06146865e+01,\n",
              "        -5.38396257e+01, -1.71602312e+01, -1.39352403e+01]])"
            ]
          },
          "metadata": {
            "tags": []
          },
          "execution_count": 31
        }
      ]
    },
    {
      "cell_type": "code",
      "metadata": {
        "colab": {
          "base_uri": "https://localhost:8080/"
        },
        "id": "enhR5BRe3PHs",
        "outputId": "5986397a-0761-4a33-8905-9b7ac9144eaa"
      },
      "source": [
        "# 특정 변수에 대한 오즈비 => 로지스틱 회귀분석에서 오즈비는 np.exp(특정변수의 계수)\r\n",
        "np.exp(lor.coef_[0])"
      ],
      "execution_count": 32,
      "outputs": [
        {
          "output_type": "execute_result",
          "data": {
            "text/plain": [
              "array([8.14493966e+00, 8.34973704e-01, 1.42746521e+00, 9.69283251e-01,\n",
              "       6.10460081e-12, 2.71391595e+21, 9.08186919e-15, 2.96630699e-25,\n",
              "       1.25204398e+01, 2.62924844e+01, 9.61913920e-07, 4.69347068e+00,\n",
              "       1.88824025e+01, 7.49422995e-01, 1.28573232e-08, 4.99944479e+17,\n",
              "       3.95927192e+21, 5.28720348e-08, 3.00364622e+10, 1.70863992e+04,\n",
              "       5.99389385e-01, 6.71318532e-01, 7.59582847e-01, 1.00104052e+00,\n",
              "       7.58737860e-23, 4.21057725e+02, 2.45527552e-05, 4.14712993e-24,\n",
              "       3.52700672e-08, 8.87160204e-07])"
            ]
          },
          "metadata": {
            "tags": []
          },
          "execution_count": 32
        }
      ]
    },
    {
      "cell_type": "code",
      "metadata": {
        "colab": {
          "base_uri": "https://localhost:8080/"
        },
        "id": "ob7a2An34XsU",
        "outputId": "145cf6c8-e5fa-4a71-b994-d708011f6ff7"
      },
      "source": [
        "# 평균면적이 1 증가할 때마다 유방암에 걸릴 확률이 몇배나 증가한다고 할 수 있는지를 구하라 => mean area에 대한 오즈비를 구하라(Odds Ratio)\r\n",
        "# 오즈비는 1증가할 때마다 얼마나 증가하는 지를 보인다. 만약 0,2가 값으로 있다면 minmax를 하는 것이 좋고, 3가지 값이 있다면 one-hot encoder 후 학습시킨뒤 비를 구하면 더 정확함\r\n",
        "i = cols.tolist().index('mean area')\r\n",
        "np.exp(lor.coef_[0][i])"
      ],
      "execution_count": 33,
      "outputs": [
        {
          "output_type": "execute_result",
          "data": {
            "text/plain": [
              "0.9692832509996638"
            ]
          },
          "metadata": {
            "tags": []
          },
          "execution_count": 33
        }
      ]
    },
    {
      "cell_type": "code",
      "metadata": {
        "colab": {
          "base_uri": "https://localhost:8080/"
        },
        "id": "TBp_Z_Bt5UzA",
        "outputId": "111ad82d-a624-4ddf-f357-b60212cf0757"
      },
      "source": [
        "# 예측확률에 따른 예측치 결정(threshold or cut off value)\r\n",
        "pred_pro = np.where(preds[:,1]>0.5, 1, 0)\r\n",
        "pred_pro"
      ],
      "execution_count": 35,
      "outputs": [
        {
          "output_type": "execute_result",
          "data": {
            "text/plain": [
              "array([0, 1, 1, 1, 1, 1, 1, 1, 1, 1, 1, 1, 1, 1, 1, 0, 1, 0, 0, 0, 0, 0,\n",
              "       1, 1, 0, 1, 1, 0, 1, 0, 1, 0, 1, 0, 1, 0, 1, 0, 1, 0, 0, 1, 0, 1,\n",
              "       1, 0, 1, 1, 1, 0, 0, 1, 0, 1, 1, 1, 1])"
            ]
          },
          "metadata": {
            "tags": []
          },
          "execution_count": 35
        }
      ]
    },
    {
      "cell_type": "code",
      "metadata": {
        "id": "Qb5JKVKb5aec"
      },
      "source": [
        ""
      ],
      "execution_count": null,
      "outputs": []
    }
  ]
}