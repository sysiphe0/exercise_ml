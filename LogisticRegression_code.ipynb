{
  "nbformat": 4,
  "nbformat_minor": 0,
  "metadata": {
    "colab": {
      "name": "LogisticRegression_code.ipynb",
      "provenance": [],
      "collapsed_sections": [],
      "authorship_tag": "ABX9TyM3xqaWTD0iADsbbVUewd4S",
      "include_colab_link": true
    },
    "kernelspec": {
      "name": "python3",
      "display_name": "Python 3"
    }
  },
  "cells": [
    {
      "cell_type": "markdown",
      "metadata": {
        "id": "view-in-github",
        "colab_type": "text"
      },
      "source": [
        "<a href=\"https://colab.research.google.com/github/sysiphe0/exercise_ml/blob/main/LogisticRegression_code.ipynb\" target=\"_parent\"><img src=\"https://colab.research.google.com/assets/colab-badge.svg\" alt=\"Open In Colab\"/></a>"
      ]
    },
    {
      "cell_type": "markdown",
      "metadata": {
        "id": "4GKeqo5Hzcmh"
      },
      "source": [
        "##### 참고(출처) : Carl's Tech Bolg (https://wotres.tistory.com/)"
      ]
    },
    {
      "cell_type": "code",
      "metadata": {
        "id": "A8hMl3suzby5"
      },
      "source": [
        "from sklearn import datasets\r\n",
        "from sklearn.linear_model import LogisticRegression\r\n",
        "from sklearn.model_selection import train_test_split"
      ],
      "execution_count": 1,
      "outputs": []
    },
    {
      "cell_type": "code",
      "metadata": {
        "id": "yb8LtoG0zn9U"
      },
      "source": [
        "breast_cancer = datasets.load_breast_cancer()\r\n",
        "X = breast_cancer.data\r\n",
        "y = breast_cancer.target\r\n",
        "\r\n",
        "train_x, test_x, train_y, test_y = train_test_split(X, y, test_size=0.1, random_state=0)"
      ],
      "execution_count": 2,
      "outputs": []
    },
    {
      "cell_type": "code",
      "metadata": {
        "colab": {
          "base_uri": "https://localhost:8080/"
        },
        "id": "iSoJDFLMz8L7",
        "outputId": "80932fa1-752d-4af3-f191-3e4d8de66c8a"
      },
      "source": [
        "# C : Inverse of regularization, 절편 없으면 : fit_intercept=False\r\n",
        "lor = LogisticRegression(penalty='l2', C=100000, random_state=98709, solver='newton-cg')\r\n",
        "lor.fit(train_x, train_y)"
      ],
      "execution_count": 3,
      "outputs": [
        {
          "output_type": "stream",
          "text": [
            "/usr/local/lib/python3.6/dist-packages/sklearn/utils/optimize.py:212: ConvergenceWarning: newton-cg failed to converge. Increase the number of iterations.\n",
            "  \"number of iterations.\", ConvergenceWarning)\n"
          ],
          "name": "stderr"
        },
        {
          "output_type": "execute_result",
          "data": {
            "text/plain": [
              "LogisticRegression(C=100000, class_weight=None, dual=False, fit_intercept=True,\n",
              "                   intercept_scaling=1, l1_ratio=None, max_iter=100,\n",
              "                   multi_class='auto', n_jobs=None, penalty='l2',\n",
              "                   random_state=98709, solver='newton-cg', tol=0.0001,\n",
              "                   verbose=0, warm_start=False)"
            ]
          },
          "metadata": {
            "tags": []
          },
          "execution_count": 3
        }
      ]
    },
    {
      "cell_type": "code",
      "metadata": {
        "colab": {
          "base_uri": "https://localhost:8080/"
        },
        "id": "lK3Lz0d_0Ufu",
        "outputId": "e384ba79-db31-4f66-9f5a-dc10fcacaa8d"
      },
      "source": [
        "# 예측\r\n",
        "preds = lor.predict(test_x)\r\n",
        "preds"
      ],
      "execution_count": 4,
      "outputs": [
        {
          "output_type": "execute_result",
          "data": {
            "text/plain": [
              "array([0, 1, 1, 1, 1, 1, 1, 1, 1, 1, 1, 1, 1, 1, 1, 0, 1, 0, 0, 0, 0, 0,\n",
              "       1, 1, 0, 1, 1, 0, 1, 0, 1, 0, 1, 0, 1, 0, 1, 0, 1, 0, 0, 1, 0, 1,\n",
              "       1, 0, 1, 1, 1, 0, 0, 1, 0, 1, 1, 1, 1])"
            ]
          },
          "metadata": {
            "tags": []
          },
          "execution_count": 4
        }
      ]
    },
    {
      "cell_type": "code",
      "metadata": {
        "id": "v1PzBYiv1Sj3"
      },
      "source": [
        "# 예측 확률\r\n",
        "preds = lor.predict_proba(test_x)\r\n",
        "#preds"
      ],
      "execution_count": 6,
      "outputs": []
    },
    {
      "cell_type": "code",
      "metadata": {
        "colab": {
          "base_uri": "https://localhost:8080/",
          "height": 459
        },
        "id": "a7FgbHiXDQ67",
        "outputId": "620c34f1-3bb4-49cd-d79b-2ef3ef0791ff"
      },
      "source": [
        "lor.summary()"
      ],
      "execution_count": 28,
      "outputs": [
        {
          "output_type": "execute_result",
          "data": {
            "text/html": [
              "<table class=\"simpletable\">\n",
              "<caption>Logit Regression Results</caption>\n",
              "<tr>\n",
              "  <th>Dep. Variable:</th>           <td>y</td>        <th>  No. Observations:  </th>  <td>   341</td>  \n",
              "</tr>\n",
              "<tr>\n",
              "  <th>Model:</th>                 <td>Logit</td>      <th>  Df Residuals:      </th>  <td>   333</td>  \n",
              "</tr>\n",
              "<tr>\n",
              "  <th>Method:</th>                 <td>MLE</td>       <th>  Df Model:          </th>  <td>     7</td>  \n",
              "</tr>\n",
              "<tr>\n",
              "  <th>Date:</th>            <td>Sat, 12 Dec 2020</td> <th>  Pseudo R-squ.:     </th>  <td>0.8724</td>  \n",
              "</tr>\n",
              "<tr>\n",
              "  <th>Time:</th>                <td>22:23:24</td>     <th>  Log-Likelihood:    </th> <td> -28.802</td> \n",
              "</tr>\n",
              "<tr>\n",
              "  <th>converged:</th>             <td>True</td>       <th>  LL-Null:           </th> <td> -225.66</td> \n",
              "</tr>\n",
              "<tr>\n",
              "  <th>Covariance Type:</th>     <td>nonrobust</td>    <th>  LLR p-value:       </th> <td>5.325e-81</td>\n",
              "</tr>\n",
              "</table>\n",
              "<table class=\"simpletable\">\n",
              "<tr>\n",
              "          <td></td>            <th>coef</th>     <th>std err</th>      <th>z</th>      <th>P>|z|</th>  <th>[0.025</th>    <th>0.975]</th>  \n",
              "</tr>\n",
              "<tr>\n",
              "  <th>Intercept</th>        <td>   48.1756</td> <td>   18.888</td> <td>    2.551</td> <td> 0.011</td> <td>   11.156</td> <td>   85.195</td>\n",
              "</tr>\n",
              "<tr>\n",
              "  <th>mean_radius</th>      <td>   -1.3953</td> <td>    5.363</td> <td>   -0.260</td> <td> 0.795</td> <td>  -11.908</td> <td>    9.117</td>\n",
              "</tr>\n",
              "<tr>\n",
              "  <th>mean_texture</th>     <td>   -0.4942</td> <td>    0.122</td> <td>   -4.050</td> <td> 0.000</td> <td>   -0.733</td> <td>   -0.255</td>\n",
              "</tr>\n",
              "<tr>\n",
              "  <th>mean_perimeter</th>   <td>    0.1387</td> <td>    0.694</td> <td>    0.200</td> <td> 0.842</td> <td>   -1.221</td> <td>    1.499</td>\n",
              "</tr>\n",
              "<tr>\n",
              "  <th>mean_area</th>        <td>   -0.0164</td> <td>    0.026</td> <td>   -0.642</td> <td> 0.521</td> <td>   -0.067</td> <td>    0.034</td>\n",
              "</tr>\n",
              "<tr>\n",
              "  <th>mean_smoothness</th>  <td> -170.1488</td> <td>   45.876</td> <td>   -3.709</td> <td> 0.000</td> <td> -260.064</td> <td>  -80.234</td>\n",
              "</tr>\n",
              "<tr>\n",
              "  <th>mean_compactness</th> <td>   -8.6134</td> <td>   23.292</td> <td>   -0.370</td> <td> 0.712</td> <td>  -54.265</td> <td>   37.038</td>\n",
              "</tr>\n",
              "<tr>\n",
              "  <th>mean_concavity</th>   <td>  -36.5583</td> <td>   13.127</td> <td>   -2.785</td> <td> 0.005</td> <td>  -62.286</td> <td>  -10.830</td>\n",
              "</tr>\n",
              "</table><br/><br/>Possibly complete quasi-separation: A fraction 0.42 of observations can be<br/>perfectly predicted. This might indicate that there is complete<br/>quasi-separation. In this case some parameters will not be identified."
            ],
            "text/plain": [
              "<class 'statsmodels.iolib.summary.Summary'>\n",
              "\"\"\"\n",
              "                           Logit Regression Results                           \n",
              "==============================================================================\n",
              "Dep. Variable:                      y   No. Observations:                  341\n",
              "Model:                          Logit   Df Residuals:                      333\n",
              "Method:                           MLE   Df Model:                            7\n",
              "Date:                Sat, 12 Dec 2020   Pseudo R-squ.:                  0.8724\n",
              "Time:                        22:23:24   Log-Likelihood:                -28.802\n",
              "converged:                       True   LL-Null:                       -225.66\n",
              "Covariance Type:            nonrobust   LLR p-value:                 5.325e-81\n",
              "====================================================================================\n",
              "                       coef    std err          z      P>|z|      [0.025      0.975]\n",
              "------------------------------------------------------------------------------------\n",
              "Intercept           48.1756     18.888      2.551      0.011      11.156      85.195\n",
              "mean_radius         -1.3953      5.363     -0.260      0.795     -11.908       9.117\n",
              "mean_texture        -0.4942      0.122     -4.050      0.000      -0.733      -0.255\n",
              "mean_perimeter       0.1387      0.694      0.200      0.842      -1.221       1.499\n",
              "mean_area           -0.0164      0.026     -0.642      0.521      -0.067       0.034\n",
              "mean_smoothness   -170.1488     45.876     -3.709      0.000    -260.064     -80.234\n",
              "mean_compactness    -8.6134     23.292     -0.370      0.712     -54.265      37.038\n",
              "mean_concavity     -36.5583     13.127     -2.785      0.005     -62.286     -10.830\n",
              "====================================================================================\n",
              "\n",
              "Possibly complete quasi-separation: A fraction 0.42 of observations can be\n",
              "perfectly predicted. This might indicate that there is complete\n",
              "quasi-separation. In this case some parameters will not be identified.\n",
              "\"\"\""
            ]
          },
          "metadata": {
            "tags": []
          },
          "execution_count": 28
        }
      ]
    },
    {
      "cell_type": "code",
      "metadata": {
        "colab": {
          "base_uri": "https://localhost:8080/"
        },
        "id": "cczF5ZiU1cFT",
        "outputId": "7eaacbb8-38b8-46fe-eca8-d79d82a76f29"
      },
      "source": [
        "# logit 로짓 값들의 평균\r\n",
        "# observation별 logit 값의 평균\r\n",
        "# odds 는 실패에 비해 성공할 확률의 비 : p/(1-p)\r\n",
        "# odds에 log를 취한값이 바로 로짓 : Log(p)\r\n",
        "# 회귀분석의 y=ax+b가 ln(p/1-p) = ax+b 가 된 것 => 즉, 로지스틱 회귀분석은 일반회귀 함수를 로짓으로 변형한 분석법\r\n",
        "import math\r\n",
        "import numpy as np\r\n",
        "arr = []\r\n",
        "for pred in preds:\r\n",
        "  # 만약에 아주 확률이 1에 가까워 1이 나온다면 최대한 1보다 작은 가장 큰 값 입력\r\n",
        "  arr.append(math.log(float(pred[1])/float(1-pred[1])))\r\n",
        "print(np.mean(arr))\r\n",
        "# 또는\r\n",
        "print(np.mean(np.log(preds[:,1]/preds[:,0])))"
      ],
      "execution_count": 7,
      "outputs": [
        {
          "output_type": "stream",
          "text": [
            "-0.7913070742709037\n",
            "-0.7913070742709037\n"
          ],
          "name": "stdout"
        }
      ]
    },
    {
      "cell_type": "code",
      "metadata": {
        "colab": {
          "base_uri": "https://localhost:8080/"
        },
        "id": "iWK1buyh2a5W",
        "outputId": "5770aec6-5ff8-464c-e82c-2327b07b9372"
      },
      "source": [
        "# 가장 영향이 큰(기준 : Odds Ratio) 독립변수 => e의 지수에 해당 변수가 위치하므로 np.exp 를 사용한다.\r\n",
        "cols = breast_cancer.feature_names\r\n",
        "print(cols[np.exp(lor.coef_).argmax()])"
      ],
      "execution_count": 8,
      "outputs": [
        {
          "output_type": "stream",
          "text": [
            "concavity error\n"
          ],
          "name": "stdout"
        }
      ]
    },
    {
      "cell_type": "code",
      "metadata": {
        "colab": {
          "base_uri": "https://localhost:8080/"
        },
        "id": "7wZKsGyM2n7M",
        "outputId": "0735e963-310b-46c1-8920-e5f0d4306355"
      },
      "source": [
        "# 변수에 대한 계수\r\n",
        "lor.coef_"
      ],
      "execution_count": 9,
      "outputs": [
        {
          "output_type": "execute_result",
          "data": {
            "text/plain": [
              "array([[ 2.09739683e+00, -1.80355047e-01,  3.55900294e-01,\n",
              "        -3.11983971e-02, -2.58219784e+01,  4.93526795e+01,\n",
              "        -3.23324964e+01, -5.64773096e+01,  2.52736249e+00,\n",
              "         3.26928313e+00, -1.38543409e+01,  1.54617233e+00,\n",
              "         2.93823040e+00, -2.88451708e-01, -1.81693523e+01,\n",
              "         4.07532734e+01,  4.97303471e+01, -1.67553913e+01,\n",
              "         2.41256779e+01,  9.74603805e+00, -5.11843833e-01,\n",
              "        -3.98511542e-01, -2.74985881e-01,  1.03998229e-03,\n",
              "        -5.09329710e+01,  6.04276994e+00, -1.06146865e+01,\n",
              "        -5.38396257e+01, -1.71602312e+01, -1.39352403e+01]])"
            ]
          },
          "metadata": {
            "tags": []
          },
          "execution_count": 9
        }
      ]
    },
    {
      "cell_type": "code",
      "metadata": {
        "colab": {
          "base_uri": "https://localhost:8080/"
        },
        "id": "enhR5BRe3PHs",
        "outputId": "1cafe79b-9ac9-462c-f7b6-57a7882cadc6"
      },
      "source": [
        "# 특정 변수에 대한 오즈비 => 로지스틱 회귀분석에서 오즈비는 np.exp(특정변수의 계수)\r\n",
        "np.exp(lor.coef_[0])"
      ],
      "execution_count": 10,
      "outputs": [
        {
          "output_type": "execute_result",
          "data": {
            "text/plain": [
              "array([8.14493966e+00, 8.34973704e-01, 1.42746521e+00, 9.69283251e-01,\n",
              "       6.10460081e-12, 2.71391595e+21, 9.08186919e-15, 2.96630699e-25,\n",
              "       1.25204398e+01, 2.62924844e+01, 9.61913920e-07, 4.69347068e+00,\n",
              "       1.88824025e+01, 7.49422995e-01, 1.28573232e-08, 4.99944479e+17,\n",
              "       3.95927192e+21, 5.28720348e-08, 3.00364622e+10, 1.70863992e+04,\n",
              "       5.99389385e-01, 6.71318532e-01, 7.59582847e-01, 1.00104052e+00,\n",
              "       7.58737860e-23, 4.21057725e+02, 2.45527552e-05, 4.14712993e-24,\n",
              "       3.52700672e-08, 8.87160204e-07])"
            ]
          },
          "metadata": {
            "tags": []
          },
          "execution_count": 10
        }
      ]
    },
    {
      "cell_type": "code",
      "metadata": {
        "colab": {
          "base_uri": "https://localhost:8080/"
        },
        "id": "ob7a2An34XsU",
        "outputId": "cb20a378-3d72-4cc4-db12-51236833f77c"
      },
      "source": [
        "# 평균면적이 1 증가할 때마다 유방암에 걸릴 확률이 몇배나 증가한다고 할 수 있는지를 구하라 => mean area에 대한 오즈비를 구하라(Odds Ratio)\r\n",
        "# 오즈비는 1증가할 때마다 얼마나 증가하는 지를 보인다. 만약 0,2가 값으로 있다면 minmax를 하는 것이 좋고, 3가지 값이 있다면 one-hot encoder 후 학습시킨뒤 비를 구하면 더 정확함\r\n",
        "i = cols.tolist().index('mean area')\r\n",
        "np.exp(lor.coef_[0][i])"
      ],
      "execution_count": 11,
      "outputs": [
        {
          "output_type": "execute_result",
          "data": {
            "text/plain": [
              "0.9692832509996638"
            ]
          },
          "metadata": {
            "tags": []
          },
          "execution_count": 11
        }
      ]
    },
    {
      "cell_type": "code",
      "metadata": {
        "colab": {
          "base_uri": "https://localhost:8080/"
        },
        "id": "TBp_Z_Bt5UzA",
        "outputId": "ee79faa9-8d61-461c-9a48-4bd2229f5d74"
      },
      "source": [
        "# 예측확률에 따른 예측치 결정(threshold or cut off value)\r\n",
        "pred_pro = np.where(preds[:,1]>0.5, 1, 0)\r\n",
        "pred_pro"
      ],
      "execution_count": 12,
      "outputs": [
        {
          "output_type": "execute_result",
          "data": {
            "text/plain": [
              "array([0, 1, 1, 1, 1, 1, 1, 1, 1, 1, 1, 1, 1, 1, 1, 0, 1, 0, 0, 0, 0, 0,\n",
              "       1, 1, 0, 1, 1, 0, 1, 0, 1, 0, 1, 0, 1, 0, 1, 0, 1, 0, 0, 1, 0, 1,\n",
              "       1, 0, 1, 1, 1, 0, 0, 1, 0, 1, 1, 1, 1])"
            ]
          },
          "metadata": {
            "tags": []
          },
          "execution_count": 12
        }
      ]
    },
    {
      "cell_type": "markdown",
      "metadata": {
        "id": "NZWRrPff6iv-"
      },
      "source": [
        "## 통계적으로 유의한 독립변수 찾는 법 (statsmodels, GLM 사용 케이스)"
      ]
    },
    {
      "cell_type": "code",
      "metadata": {
        "colab": {
          "base_uri": "https://localhost:8080/"
        },
        "id": "Qb5JKVKb5aec",
        "outputId": "a9ebd7e4-4d20-441e-f094-03c0e4da8961"
      },
      "source": [
        "import statsmodels.api as sm\r\n",
        "import pandas as pd\r\n",
        "breast_cancer = datasets.load_breast_cancer()\r\n",
        "X = breast_cancer.data\r\n",
        "y = breast_cancer.target\r\n",
        "cols = [i.replace(' ','_') for i in breast_cancer.feature_names] + ['y']\r\n",
        "train_x, test_x, train_y, test_y = train_test_split(X, y, test_size=0.4, random_state=1234)"
      ],
      "execution_count": 17,
      "outputs": [
        {
          "output_type": "stream",
          "text": [
            "/usr/local/lib/python3.6/dist-packages/statsmodels/tools/_testing.py:19: FutureWarning: pandas.util.testing is deprecated. Use the functions in the public API at pandas.testing instead.\n",
            "  import pandas.util.testing as tm\n"
          ],
          "name": "stderr"
        }
      ]
    },
    {
      "cell_type": "code",
      "metadata": {
        "id": "En4QRDFu8PZI"
      },
      "source": [
        "# 배열합치기 : (hstack - 열(column) 추가, vstack - 행(row) 추가)\r\n",
        "train = np.hstack((train_x, train_y.reshape(-1,1)))\r\n",
        "test = np.hstack((test_x, test_y.reshape(-1,1)))\r\n",
        "train = pd.DataFrame(train, columns=cols)\r\n",
        "test = pd.DataFrame(test, columns=cols)"
      ],
      "execution_count": 23,
      "outputs": []
    },
    {
      "cell_type": "code",
      "metadata": {
        "colab": {
          "base_uri": "https://localhost:8080/"
        },
        "id": "sX1ELyIy9DFy",
        "outputId": "9f3234b7-ca50-43a7-f538-70c3da1a9ba1"
      },
      "source": [
        "# 20개 넘어가면 잘 안됨\r\n",
        "formula = 'y ~ mean_radius + mean_texture + mean_perimeter + mean_area + mean_smoothness + mean_compactness + mean_concavity'\r\n",
        "# train\r\n",
        "lor = sm.Logit.from_formula(formula, train).fit()\r\n",
        "# 요약\r\n",
        "print(lor.summary())\r\n",
        "# p_value 확인 => 0.05 이하이면 의미있는 변수\r\n",
        "print(\"----------------------\")\r\n",
        "print(lor.pvalues)\r\n",
        "# 계수확인\r\n",
        "print(\"----------------------\")\r\n",
        "print(lor.params)"
      ],
      "execution_count": 26,
      "outputs": [
        {
          "output_type": "stream",
          "text": [
            "Optimization terminated successfully.\n",
            "         Current function value: 0.084463\n",
            "         Iterations 11\n",
            "                           Logit Regression Results                           \n",
            "==============================================================================\n",
            "Dep. Variable:                      y   No. Observations:                  341\n",
            "Model:                          Logit   Df Residuals:                      333\n",
            "Method:                           MLE   Df Model:                            7\n",
            "Date:                Sat, 12 Dec 2020   Pseudo R-squ.:                  0.8724\n",
            "Time:                        22:20:02   Log-Likelihood:                -28.802\n",
            "converged:                       True   LL-Null:                       -225.66\n",
            "Covariance Type:            nonrobust   LLR p-value:                 5.325e-81\n",
            "====================================================================================\n",
            "                       coef    std err          z      P>|z|      [0.025      0.975]\n",
            "------------------------------------------------------------------------------------\n",
            "Intercept           48.1756     18.888      2.551      0.011      11.156      85.195\n",
            "mean_radius         -1.3953      5.363     -0.260      0.795     -11.908       9.117\n",
            "mean_texture        -0.4942      0.122     -4.050      0.000      -0.733      -0.255\n",
            "mean_perimeter       0.1387      0.694      0.200      0.842      -1.221       1.499\n",
            "mean_area           -0.0164      0.026     -0.642      0.521      -0.067       0.034\n",
            "mean_smoothness   -170.1488     45.876     -3.709      0.000    -260.064     -80.234\n",
            "mean_compactness    -8.6134     23.292     -0.370      0.712     -54.265      37.038\n",
            "mean_concavity     -36.5583     13.127     -2.785      0.005     -62.286     -10.830\n",
            "====================================================================================\n",
            "\n",
            "Possibly complete quasi-separation: A fraction 0.42 of observations can be\n",
            "perfectly predicted. This might indicate that there is complete\n",
            "quasi-separation. In this case some parameters will not be identified.\n",
            "----------------------\n",
            "Intercept           0.010753\n",
            "mean_radius         0.794749\n",
            "mean_texture        0.000051\n",
            "mean_perimeter      0.841584\n",
            "mean_area           0.521141\n",
            "mean_smoothness     0.000208\n",
            "mean_compactness    0.711532\n",
            "mean_concavity      0.005353\n",
            "dtype: float64\n",
            "----------------------\n",
            "Intercept            48.175649\n",
            "mean_radius          -1.395303\n",
            "mean_texture         -0.494249\n",
            "mean_perimeter        0.138706\n",
            "mean_area            -0.016407\n",
            "mean_smoothness    -170.148783\n",
            "mean_compactness     -8.613379\n",
            "mean_concavity      -36.558340\n",
            "dtype: float64\n"
          ],
          "name": "stdout"
        }
      ]
    },
    {
      "cell_type": "code",
      "metadata": {
        "colab": {
          "base_uri": "https://localhost:8080/",
          "height": 416
        },
        "id": "sNYBmsNP9qVU",
        "outputId": "064ec50b-62bf-47a1-d2e6-6f324c2186f7"
      },
      "source": [
        "# 또 다른 방법. 일반선형 모델인 GLM(Generlize linear Model)에서 이진 분류하면 link function이 Logit되어 Logistic regression 됨\r\n",
        "import statsmodels.formula.api as smf\r\n",
        "smf.glm(formula, train, family=sm.families.Binomial()).fit().summary()"
      ],
      "execution_count": 27,
      "outputs": [
        {
          "output_type": "execute_result",
          "data": {
            "text/html": [
              "<table class=\"simpletable\">\n",
              "<caption>Generalized Linear Model Regression Results</caption>\n",
              "<tr>\n",
              "  <th>Dep. Variable:</th>           <td>y</td>        <th>  No. Observations:  </th>  <td>   341</td> \n",
              "</tr>\n",
              "<tr>\n",
              "  <th>Model:</th>                  <td>GLM</td>       <th>  Df Residuals:      </th>  <td>   333</td> \n",
              "</tr>\n",
              "<tr>\n",
              "  <th>Model Family:</th>        <td>Binomial</td>     <th>  Df Model:          </th>  <td>     7</td> \n",
              "</tr>\n",
              "<tr>\n",
              "  <th>Link Function:</th>         <td>logit</td>      <th>  Scale:             </th> <td>  1.0000</td>\n",
              "</tr>\n",
              "<tr>\n",
              "  <th>Method:</th>                <td>IRLS</td>       <th>  Log-Likelihood:    </th> <td> -28.802</td>\n",
              "</tr>\n",
              "<tr>\n",
              "  <th>Date:</th>            <td>Sat, 12 Dec 2020</td> <th>  Deviance:          </th> <td>  57.604</td>\n",
              "</tr>\n",
              "<tr>\n",
              "  <th>Time:</th>                <td>22:21:59</td>     <th>  Pearson chi2:      </th>  <td>  150.</td> \n",
              "</tr>\n",
              "<tr>\n",
              "  <th>No. Iterations:</th>         <td>10</td>        <th>                     </th>     <td> </td>   \n",
              "</tr>\n",
              "<tr>\n",
              "  <th>Covariance Type:</th>     <td>nonrobust</td>    <th>                     </th>     <td> </td>   \n",
              "</tr>\n",
              "</table>\n",
              "<table class=\"simpletable\">\n",
              "<tr>\n",
              "          <td></td>            <th>coef</th>     <th>std err</th>      <th>z</th>      <th>P>|z|</th>  <th>[0.025</th>    <th>0.975]</th>  \n",
              "</tr>\n",
              "<tr>\n",
              "  <th>Intercept</th>        <td>   48.1756</td> <td>   18.888</td> <td>    2.551</td> <td> 0.011</td> <td>   11.156</td> <td>   85.195</td>\n",
              "</tr>\n",
              "<tr>\n",
              "  <th>mean_radius</th>      <td>   -1.3953</td> <td>    5.363</td> <td>   -0.260</td> <td> 0.795</td> <td>  -11.908</td> <td>    9.117</td>\n",
              "</tr>\n",
              "<tr>\n",
              "  <th>mean_texture</th>     <td>   -0.4942</td> <td>    0.122</td> <td>   -4.050</td> <td> 0.000</td> <td>   -0.733</td> <td>   -0.255</td>\n",
              "</tr>\n",
              "<tr>\n",
              "  <th>mean_perimeter</th>   <td>    0.1387</td> <td>    0.694</td> <td>    0.200</td> <td> 0.842</td> <td>   -1.221</td> <td>    1.499</td>\n",
              "</tr>\n",
              "<tr>\n",
              "  <th>mean_area</th>        <td>   -0.0164</td> <td>    0.026</td> <td>   -0.642</td> <td> 0.521</td> <td>   -0.067</td> <td>    0.034</td>\n",
              "</tr>\n",
              "<tr>\n",
              "  <th>mean_smoothness</th>  <td> -170.1488</td> <td>   45.876</td> <td>   -3.709</td> <td> 0.000</td> <td> -260.064</td> <td>  -80.234</td>\n",
              "</tr>\n",
              "<tr>\n",
              "  <th>mean_compactness</th> <td>   -8.6134</td> <td>   23.292</td> <td>   -0.370</td> <td> 0.712</td> <td>  -54.265</td> <td>   37.038</td>\n",
              "</tr>\n",
              "<tr>\n",
              "  <th>mean_concavity</th>   <td>  -36.5583</td> <td>   13.127</td> <td>   -2.785</td> <td> 0.005</td> <td>  -62.286</td> <td>  -10.830</td>\n",
              "</tr>\n",
              "</table>"
            ],
            "text/plain": [
              "<class 'statsmodels.iolib.summary.Summary'>\n",
              "\"\"\"\n",
              "                 Generalized Linear Model Regression Results                  \n",
              "==============================================================================\n",
              "Dep. Variable:                      y   No. Observations:                  341\n",
              "Model:                            GLM   Df Residuals:                      333\n",
              "Model Family:                Binomial   Df Model:                            7\n",
              "Link Function:                  logit   Scale:                          1.0000\n",
              "Method:                          IRLS   Log-Likelihood:                -28.802\n",
              "Date:                Sat, 12 Dec 2020   Deviance:                       57.604\n",
              "Time:                        22:21:59   Pearson chi2:                     150.\n",
              "No. Iterations:                    10                                         \n",
              "Covariance Type:            nonrobust                                         \n",
              "====================================================================================\n",
              "                       coef    std err          z      P>|z|      [0.025      0.975]\n",
              "------------------------------------------------------------------------------------\n",
              "Intercept           48.1756     18.888      2.551      0.011      11.156      85.195\n",
              "mean_radius         -1.3953      5.363     -0.260      0.795     -11.908       9.117\n",
              "mean_texture        -0.4942      0.122     -4.050      0.000      -0.733      -0.255\n",
              "mean_perimeter       0.1387      0.694      0.200      0.842      -1.221       1.499\n",
              "mean_area           -0.0164      0.026     -0.642      0.521      -0.067       0.034\n",
              "mean_smoothness   -170.1488     45.876     -3.709      0.000    -260.064     -80.234\n",
              "mean_compactness    -8.6134     23.292     -0.370      0.712     -54.265      37.038\n",
              "mean_concavity     -36.5583     13.127     -2.785      0.005     -62.286     -10.830\n",
              "====================================================================================\n",
              "\"\"\""
            ]
          },
          "metadata": {
            "tags": []
          },
          "execution_count": 27
        }
      ]
    },
    {
      "cell_type": "code",
      "metadata": {
        "id": "vvXECi6mC9gD"
      },
      "source": [
        ""
      ],
      "execution_count": null,
      "outputs": []
    }
  ]
}