{
  "nbformat": 4,
  "nbformat_minor": 0,
  "metadata": {
    "colab": {
      "name": "[stats] confusion_matrix_simple_code.ipynb",
      "provenance": [],
      "authorship_tag": "ABX9TyNG8komCuTZmOH2eZ+IUwU2",
      "include_colab_link": true
    },
    "kernelspec": {
      "name": "python3",
      "display_name": "Python 3"
    }
  },
  "cells": [
    {
      "cell_type": "markdown",
      "metadata": {
        "id": "view-in-github",
        "colab_type": "text"
      },
      "source": [
        "<a href=\"https://colab.research.google.com/github/sysiphe0/exercise_ml/blob/main/%5Bstats%5D_confusion_matrix_simple_code.ipynb\" target=\"_parent\"><img src=\"https://colab.research.google.com/assets/colab-badge.svg\" alt=\"Open In Colab\"/></a>"
      ]
    },
    {
      "cell_type": "code",
      "metadata": {
        "colab": {
          "base_uri": "https://localhost:8080/"
        },
        "id": "D2gkt2CtGQ05",
        "outputId": "44c32e6a-4ae2-4f74-ccd4-34f7197dd3ee"
      },
      "source": [
        "#iris 데이터세트 만들기\r\n",
        "import numpy as np\r\n",
        "import pandas as pd\r\n",
        "from sklearn.datasets import load_iris\r\n",
        "iris = load_iris()\r\n",
        "iris.data\r\n",
        "iris.feature_names\r\n",
        "iris.target\r\n",
        "iris.target_names\r\n",
        "\r\n",
        "\r\n",
        "iris_df = pd.DataFrame(iris.data, columns=iris.feature_names)\r\n",
        "iris_df[\"target\"] = iris.target \r\n",
        "iris_df[\"target_names\"] = iris.target_names[iris.target]\r\n",
        "iris_df[:5]\r\n",
        "\r\n",
        "\r\n",
        "#훈련세트, 테스트세트 나누기\r\n",
        "from sklearn.model_selection import train_test_split\r\n",
        "train_set, test_set = train_test_split(iris_df, test_size = 0.3)\r\n",
        "\r\n",
        "train_set.shape\r\n",
        "test_set.shape\r\n",
        "\r\n",
        "\r\n",
        "#kNN\r\n",
        "import sklearn.neighbors as nn\r\n",
        "knn = nn.KNeighborsClassifier(n_neighbors = 1)\r\n",
        "\r\n",
        "#훈련\r\n",
        "knn.fit(X=train_set.iloc[:, :-1], y=train_set.target)\r\n",
        "\r\n",
        "#테스트\r\n",
        "pred = knn.predict(X=test_set.iloc[:, :-1])\r\n",
        "\r\n",
        "\r\n",
        "#성능테스트\r\n",
        "from sklearn.metrics import confusion_matrix\r\n",
        "from sklearn.metrics import classification_report\r\n",
        "\r\n",
        "#confusion_matrix\r\n",
        "#classification_report\r\n",
        "c_mat = confusion_matrix(test_set.target.values, pred)\r\n",
        "print('\\n\\nConfusion Matrix\\n', c_mat)\r\n",
        "print('\\n', classification_report(test_set.target.values, pred, target_names=iris.target_names))"
      ],
      "execution_count": 3,
      "outputs": [
        {
          "output_type": "stream",
          "text": [
            "\n",
            "\n",
            "Confusion Matrix\n",
            " [[10  0  0]\n",
            " [ 0 20  0]\n",
            " [ 0  0 15]]\n",
            "\n",
            "               precision    recall  f1-score   support\n",
            "\n",
            "      setosa       1.00      1.00      1.00        10\n",
            "  versicolor       1.00      1.00      1.00        20\n",
            "   virginica       1.00      1.00      1.00        15\n",
            "\n",
            "    accuracy                           1.00        45\n",
            "   macro avg       1.00      1.00      1.00        45\n",
            "weighted avg       1.00      1.00      1.00        45\n",
            "\n"
          ],
          "name": "stdout"
        }
      ]
    },
    {
      "cell_type": "code",
      "metadata": {
        "id": "zIwswzajGRVt"
      },
      "source": [
        ""
      ],
      "execution_count": null,
      "outputs": []
    }
  ]
}