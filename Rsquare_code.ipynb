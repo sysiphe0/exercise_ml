{
  "nbformat": 4,
  "nbformat_minor": 0,
  "metadata": {
    "colab": {
      "name": "Rsquare_code.ipynb",
      "provenance": [],
      "collapsed_sections": [],
      "authorship_tag": "ABX9TyNe0PrXlLXodbQtj4tkjz7D",
      "include_colab_link": true
    },
    "kernelspec": {
      "name": "python3",
      "display_name": "Python 3"
    }
  },
  "cells": [
    {
      "cell_type": "markdown",
      "metadata": {
        "id": "view-in-github",
        "colab_type": "text"
      },
      "source": [
        "<a href=\"https://colab.research.google.com/github/sysiphe0/exercise_ml/blob/main/Rsquare_code.ipynb\" target=\"_parent\"><img src=\"https://colab.research.google.com/assets/colab-badge.svg\" alt=\"Open In Colab\"/></a>"
      ]
    },
    {
      "cell_type": "markdown",
      "metadata": {
        "id": "9obqWyy6kjwV"
      },
      "source": [
        "##### 참고(출처) : Carl's Tech Bolg (https://wotres.tistory.com/)"
      ]
    },
    {
      "cell_type": "code",
      "metadata": {
        "colab": {
          "base_uri": "https://localhost:8080/"
        },
        "id": "XBeioS7F6_Ul",
        "outputId": "85c01ea7-b64c-4d31-d857-3a7506a5081c"
      },
      "source": [
        "from statsmodels.api import OLS, add_constant\r\n",
        "from sklearn import datasets\r\n",
        "from sklearn.model_selection import train_test_split\r\n",
        "import numpy as np\r\n",
        "import pandas as pd\r\n",
        "datas = datasets.load_diabetes()\r\n",
        "\r\n",
        "df = pd.DataFrame(datas.data, columns = datas.feature_names)\r\n",
        "y = pd.DataFrame(datas.target, columns=['y'])\r\n",
        "df = pd.concat([df, y], axis=1)\r\n",
        "train, test = train_test_split(df, test_size=0.3, random_state=123)"
      ],
      "execution_count": 1,
      "outputs": [
        {
          "output_type": "stream",
          "text": [
            "/usr/local/lib/python3.6/dist-packages/statsmodels/tools/_testing.py:19: FutureWarning: pandas.util.testing is deprecated. Use the functions in the public API at pandas.testing instead.\n",
            "  import pandas.util.testing as tm\n"
          ],
          "name": "stderr"
        }
      ]
    },
    {
      "cell_type": "code",
      "metadata": {
        "colab": {
          "base_uri": "https://localhost:8080/"
        },
        "id": "OUc2XRvy_gZE",
        "outputId": "e3873cce-b8fd-4434-e805-4d7ba2af5592"
      },
      "source": [
        "# 독립변수 1개일때\r\n",
        "train_x = add_constant(train.age)\r\n",
        "model = OLS(train.y, train_x).fit()\r\n",
        "print(model.summary())"
      ],
      "execution_count": 2,
      "outputs": [
        {
          "output_type": "stream",
          "text": [
            "                            OLS Regression Results                            \n",
            "==============================================================================\n",
            "Dep. Variable:                      y   R-squared:                       0.035\n",
            "Model:                            OLS   Adj. R-squared:                  0.032\n",
            "Method:                 Least Squares   F-statistic:                     11.25\n",
            "Date:                Sat, 12 Dec 2020   Prob (F-statistic):           0.000897\n",
            "Time:                        08:08:41   Log-Likelihood:                -1774.8\n",
            "No. Observations:                 309   AIC:                             3554.\n",
            "Df Residuals:                     307   BIC:                             3561.\n",
            "Df Model:                           1                                         \n",
            "Covariance Type:            nonrobust                                         \n",
            "==============================================================================\n",
            "                 coef    std err          t      P>|t|      [0.025      0.975]\n",
            "------------------------------------------------------------------------------\n",
            "const        153.7898      4.312     35.669      0.000     145.306     162.274\n",
            "age          309.3540     92.237      3.354      0.001     127.857     490.851\n",
            "==============================================================================\n",
            "Omnibus:                       39.557   Durbin-Watson:                   2.025\n",
            "Prob(Omnibus):                  0.000   Jarque-Bera (JB):               19.331\n",
            "Skew:                           0.436   Prob(JB):                     6.34e-05\n",
            "Kurtosis:                       2.139   Cond. No.                         21.4\n",
            "==============================================================================\n",
            "\n",
            "Warnings:\n",
            "[1] Standard Errors assume that the covariance matrix of the errors is correctly specified.\n"
          ],
          "name": "stdout"
        }
      ]
    },
    {
      "cell_type": "code",
      "metadata": {
        "colab": {
          "base_uri": "https://localhost:8080/"
        },
        "id": "G_TddvoM_qPY",
        "outputId": "97ce99b2-b2fb-4649-ad5f-d873b0d74f82"
      },
      "source": [
        "# 오차는 실제값 - 예측값 => Regression 예측력\r\n",
        "# 편차는 실제값 - 평균값 => 그냥 평균잡았을 때 예측력\r\n",
        "\r\n",
        "# RSS(Regression sum of squares) = EES(explained sum of squared) : 회귀식과 평균값의 차이 => 이정도는 설명했다는 의미\r\n",
        "RSS = np.sum((model.predict(train_x) - train.y.mean())**2)\r\n",
        "print(RSS, ' / ' , model.ess)"
      ],
      "execution_count": 3,
      "outputs": [
        {
          "output_type": "stream",
          "text": [
            "64606.2271181009  /  64606.22711810097\n"
          ],
          "name": "stdout"
        }
      ]
    },
    {
      "cell_type": "code",
      "metadata": {
        "colab": {
          "base_uri": "https://localhost:8080/"
        },
        "id": "OD4puKwNDs7O",
        "outputId": "d79dd329-4c3a-4c22-f9a3-cdf2d195c517"
      },
      "source": [
        "# 잔차(오차) 제곱 합\r\n",
        "# SSE(Sum of squared errors) = RSS(residual sum of squares) : 회귀식과 실제값의 차이(회귀식에서 구한 값(예측치)과 실제값의 차이) => 예측해도 차이나는 에러\r\n",
        "SSE = np.sum((train.y-model.predict(train_x))**2)\r\n",
        "print(SSE, ' / ', model.ssr)"
      ],
      "execution_count": 4,
      "outputs": [
        {
          "output_type": "stream",
          "text": [
            "1763236.9444029345  /  1763236.9444029345\n"
          ],
          "name": "stdout"
        }
      ]
    },
    {
      "cell_type": "code",
      "metadata": {
        "colab": {
          "base_uri": "https://localhost:8080/"
        },
        "id": "gV6vDCf7EC2J",
        "outputId": "f219b2ce-19f3-470d-d4fa-29cc3cea431e"
      },
      "source": [
        "# TSS(Total sum of squares) : 편차 제곱합\r\n",
        "# TSS = RSS + SSE\r\n",
        "TSS = np.sum((train.y - train.y.mean())**2)\r\n",
        "print(TSS, ' / ' , model.centered_tss)"
      ],
      "execution_count": 5,
      "outputs": [
        {
          "output_type": "stream",
          "text": [
            "1827843.1715210355  /  1827843.1715210355\n"
          ],
          "name": "stdout"
        }
      ]
    },
    {
      "cell_type": "code",
      "metadata": {
        "colab": {
          "base_uri": "https://localhost:8080/"
        },
        "id": "2jDyJw2PESqa",
        "outputId": "be8c0b66-72ad-4061-c191-49793436ae5c"
      },
      "source": [
        "r2 = RSS / TSS\r\n",
        "print(r2, model.rsquared)"
      ],
      "execution_count": 7,
      "outputs": [
        {
          "output_type": "stream",
          "text": [
            "0.03534560739384385 0.03534560739384385\n"
          ],
          "name": "stdout"
        }
      ]
    },
    {
      "cell_type": "code",
      "metadata": {
        "colab": {
          "base_uri": "https://localhost:8080/"
        },
        "id": "KKlD6UVbEWp5",
        "outputId": "3d5b298d-1d22-4e20-e96f-eb35179632c0"
      },
      "source": [
        "# 독립변수 2개 이상일 때\r\n",
        "train_x = add_constant(train[['age','bmi','bp']])\r\n",
        "model = OLS(train.y, train_x).fit()\r\n",
        "print(model.summary())"
      ],
      "execution_count": 9,
      "outputs": [
        {
          "output_type": "stream",
          "text": [
            "                            OLS Regression Results                            \n",
            "==============================================================================\n",
            "Dep. Variable:                      y   R-squared:                       0.397\n",
            "Model:                            OLS   Adj. R-squared:                  0.391\n",
            "Method:                 Least Squares   F-statistic:                     66.95\n",
            "Date:                Sat, 12 Dec 2020   Prob (F-statistic):           2.75e-33\n",
            "Time:                        08:30:41   Log-Likelihood:                -1702.2\n",
            "No. Observations:                 309   AIC:                             3412.\n",
            "Df Residuals:                     305   BIC:                             3427.\n",
            "Df Model:                           3                                         \n",
            "Covariance Type:            nonrobust                                         \n",
            "==============================================================================\n",
            "                 coef    std err          t      P>|t|      [0.025      0.975]\n",
            "------------------------------------------------------------------------------\n",
            "const        153.3385      3.420     44.835      0.000     146.609     160.068\n",
            "age           43.5556     77.090      0.565      0.572    -108.139     195.251\n",
            "bmi          814.7085     78.339     10.400      0.000     660.555     968.862\n",
            "bp           332.2759     80.809      4.112      0.000     173.262     491.290\n",
            "==============================================================================\n",
            "Omnibus:                        5.746   Durbin-Watson:                   2.092\n",
            "Prob(Omnibus):                  0.057   Jarque-Bera (JB):                4.001\n",
            "Skew:                           0.130   Prob(JB):                        0.135\n",
            "Kurtosis:                       2.507   Cond. No.                         27.7\n",
            "==============================================================================\n",
            "\n",
            "Warnings:\n",
            "[1] Standard Errors assume that the covariance matrix of the errors is correctly specified.\n"
          ],
          "name": "stdout"
        }
      ]
    },
    {
      "cell_type": "code",
      "metadata": {
        "colab": {
          "base_uri": "https://localhost:8080/"
        },
        "id": "vylf-KtTEdqJ",
        "outputId": "a98a32d9-e033-45c5-9830-b01eaff075f2"
      },
      "source": [
        "# RSS(Regression sum of squares) = EES(explained sum of squared) : 회귀식과 평균값의 차이 => 이정도는 설명했다는 의미\r\n",
        "RSS = np.sum((model.predict(train_x) - train.y.mean())**2)\r\n",
        "print(RSS, ' / ' , model.ess)"
      ],
      "execution_count": 10,
      "outputs": [
        {
          "output_type": "stream",
          "text": [
            "725759.8571189274  /  725759.85711893\n"
          ],
          "name": "stdout"
        }
      ]
    },
    {
      "cell_type": "code",
      "metadata": {
        "colab": {
          "base_uri": "https://localhost:8080/"
        },
        "id": "BQTrT_TqEtJ5",
        "outputId": "48e24dd0-0f9a-4b9e-a45a-3211c197fc4b"
      },
      "source": [
        "# 잔차(오차) 제곱 합\r\n",
        "# SSE(Sum of squared errors) = RSS(residual sum of squares) : 회귀식과 실제값의 차이(회귀식에서 구한 값(예측치)과 실제값의 차이) => 예측해도 차이나는 에러\r\n",
        "SSE = np.sum((train.y-model.predict(train_x))**2)\r\n",
        "print(SSE, ' / ', model.ssr)"
      ],
      "execution_count": 11,
      "outputs": [
        {
          "output_type": "stream",
          "text": [
            "1102083.3144021055  /  1102083.3144021055\n"
          ],
          "name": "stdout"
        }
      ]
    },
    {
      "cell_type": "code",
      "metadata": {
        "colab": {
          "base_uri": "https://localhost:8080/"
        },
        "id": "CGkpdq0pEwZK",
        "outputId": "a31354f8-fa4a-4906-af30-2508edc8de4f"
      },
      "source": [
        "# TSS(Total sum of squares) : 편차 제곱합\r\n",
        "# TSS = RSS + SSE\r\n",
        "TSS = np.sum((train.y - train.y.mean())**2)\r\n",
        "print(TSS, ' / ' , model.centered_tss)"
      ],
      "execution_count": 12,
      "outputs": [
        {
          "output_type": "stream",
          "text": [
            "1827843.1715210355  /  1827843.1715210355\n"
          ],
          "name": "stdout"
        }
      ]
    },
    {
      "cell_type": "code",
      "metadata": {
        "colab": {
          "base_uri": "https://localhost:8080/"
        },
        "id": "hFutqu8vEyWx",
        "outputId": "863ad7f2-6411-4a13-f7be-d311a72e4153"
      },
      "source": [
        "r2 = RSS / TSS\r\n",
        "print(r2, model.rsquared)"
      ],
      "execution_count": 13,
      "outputs": [
        {
          "output_type": "stream",
          "text": [
            "0.39705805641683584 0.3970580564168372\n"
          ],
          "name": "stdout"
        }
      ]
    },
    {
      "cell_type": "code",
      "metadata": {
        "colab": {
          "base_uri": "https://localhost:8080/"
        },
        "id": "ThpjNNGbE4cp",
        "outputId": "f38c0268-a343-4f25-cb55-2bcf856de0e0"
      },
      "source": [
        "# 수정된 결정 계수 => 결정계수는 독립변수 개수가 많아질수록 그 값이 커지게 됨 => 보정한것이 수정된 결정 계수\r\n",
        "# 즉, 표본의 크기와 독립변수의 수를 고려하여 계산하는 것(n: 전체 샘플 개수, p: 설명변수 개수)\r\n",
        "# adjusted r2 = 1 - ((n-1)**(1-r2))/(n-p-1)\r\n",
        "n = len(train_x)\r\n",
        "p = len(train_x.columns)-1\r\n",
        "print(n,p)"
      ],
      "execution_count": 14,
      "outputs": [
        {
          "output_type": "stream",
          "text": [
            "309 3\n"
          ],
          "name": "stdout"
        }
      ]
    },
    {
      "cell_type": "code",
      "metadata": {
        "colab": {
          "base_uri": "https://localhost:8080/"
        },
        "id": "YG8CbO4VFSuR",
        "outputId": "e03309f5-dfd1-48c3-a0bc-24fc1dce9872"
      },
      "source": [
        "adjusted_r2 = 1 - ((n-1)*(1-r2))/(n-p-1)\r\n",
        "print(adjusted_r2, ' / ' , model.rsquared_adj)"
      ],
      "execution_count": 15,
      "outputs": [
        {
          "output_type": "stream",
          "text": [
            "0.3911274799225751  /  0.39112747992257657\n"
          ],
          "name": "stdout"
        }
      ]
    },
    {
      "cell_type": "code",
      "metadata": {
        "id": "LxvZ_ASyFdrx"
      },
      "source": [
        ""
      ],
      "execution_count": null,
      "outputs": []
    }
  ]
}