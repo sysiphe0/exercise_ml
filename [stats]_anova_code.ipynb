{
  "nbformat": 4,
  "nbformat_minor": 0,
  "metadata": {
    "colab": {
      "name": "[stats] anova_code.ipynb",
      "provenance": [],
      "collapsed_sections": [],
      "toc_visible": true,
      "authorship_tag": "ABX9TyPOkex29pRvdEGQ4vOtzYhH",
      "include_colab_link": true
    },
    "kernelspec": {
      "name": "python3",
      "display_name": "Python 3"
    }
  },
  "cells": [
    {
      "cell_type": "markdown",
      "metadata": {
        "id": "view-in-github",
        "colab_type": "text"
      },
      "source": [
        "<a href=\"https://colab.research.google.com/github/sysiphe0/exercise_ml/blob/main/%5Bstats%5D_anova_code.ipynb\" target=\"_parent\"><img src=\"https://colab.research.google.com/assets/colab-badge.svg\" alt=\"Open In Colab\"/></a>"
      ]
    },
    {
      "cell_type": "markdown",
      "metadata": {
        "id": "JTEYiMTyPkrE"
      },
      "source": [
        "##### 출처 : https://partrita.github.io/posts/ANOVA-python/"
      ]
    },
    {
      "cell_type": "code",
      "metadata": {
        "colab": {
          "base_uri": "https://localhost:8080/"
        },
        "id": "zy3baTFlNruf",
        "outputId": "f05f0cd4-c768-4aee-f709-4b35f309059b"
      },
      "source": [
        "import scipy.stats as stats\r\n",
        "import pandas as pd\r\n",
        "import urllib\r\n",
        "from statsmodels.formula.api import ols\r\n",
        "from statsmodels.stats.anova import anova_lm\r\n",
        "import matplotlib.pyplot as plt\r\n",
        "import numpy as np\r\n",
        "%matplotlib inline"
      ],
      "execution_count": 2,
      "outputs": [
        {
          "output_type": "stream",
          "text": [
            "/usr/local/lib/python3.6/dist-packages/statsmodels/tools/_testing.py:19: FutureWarning: pandas.util.testing is deprecated. Use the functions in the public API at pandas.testing instead.\n",
            "  import pandas.util.testing as tm\n"
          ],
          "name": "stderr"
        }
      ]
    },
    {
      "cell_type": "markdown",
      "metadata": {
        "id": "fjBlm8HrORi9"
      },
      "source": [
        "## one way anova"
      ]
    },
    {
      "cell_type": "code",
      "metadata": {
        "colab": {
          "base_uri": "https://localhost:8080/",
          "height": 268
        },
        "id": "wpSLBxbQNjx2",
        "outputId": "a7f0db6a-1b9b-4ba9-e1e5-e89e7c3a7903"
      },
      "source": [
        "# url로 데이터 얻어오기\r\n",
        "url = 'https://raw.githubusercontent.com/thomas-haslwanter/statsintro_python/master/ipynb/Data/data_altman/altman_910.txt'\r\n",
        "data = np.genfromtxt(urllib.request.urlopen(url), delimiter=',')\r\n",
        "\r\n",
        "# Sort them into groups, according to column 1\r\n",
        "group1 = data[data[:,1]==1,0]\r\n",
        "group2 = data[data[:,1]==2,0]\r\n",
        "group3 = data[data[:,1]==3,0]\r\n",
        "\r\n",
        "# matplotlib plotting\r\n",
        "plot_data = [group1, group2, group3]\r\n",
        "ax = plt.boxplot(plot_data)\r\n",
        "plt.show()"
      ],
      "execution_count": 3,
      "outputs": [
        {
          "output_type": "display_data",
          "data": {
            "image/png": "[encoded data removed]",
            "text/plain": [
              "<Figure size 432x288 with 1 Axes>"
            ]
          },
          "metadata": {
            "tags": [],
            "needs_background": "light"
          }
        }
      ]
    },
    {
      "cell_type": "code",
      "metadata": {
        "colab": {
          "base_uri": "https://localhost:8080/"
        },
        "id": "q5bwxTOeNl43",
        "outputId": "8edcbcdd-cbef-4901-9b6f-cbea6b884b72"
      },
      "source": [
        "F_statistic, pVal = stats.f_oneway(group1, group2, group3)\r\n",
        "\r\n",
        "print('Altman 910 데이터의 일원분산분석 결과 : F={0:.1f}, p={1:.5f}'.format(F_statistic, pVal))\r\n",
        "if pVal < 0.05:\r\n",
        "    print('P-value 값이 충분히 작음으로 인해 그룹의 평균값이 통계적으로 유의미하게 차이납니다.')"
      ],
      "execution_count": 4,
      "outputs": [
        {
          "output_type": "stream",
          "text": [
            "Altman 910 데이터의 일원분산분석 결과 : F=3.7, p=0.04359\n",
            "P-value 값이 충분히 작음으로 인해 그룹의 평균값이 통계적으로 유의미하게 차이납니다.\n"
          ],
          "name": "stdout"
        }
      ]
    },
    {
      "cell_type": "code",
      "metadata": {
        "colab": {
          "base_uri": "https://localhost:8080/"
        },
        "id": "A9vjxKaLN3dk",
        "outputId": "f74e8deb-520d-47d7-dbd3-e3d3d8753dba"
      },
      "source": [
        "import warnings\r\n",
        "warnings.filterwarnings('ignore')\r\n",
        "\r\n",
        "df = pd.DataFrame(data, columns=['value', 'treatment'])    \r\n",
        "\r\n",
        "# the \"C\" indicates categorical data\r\n",
        "model = ols('value ~ C(treatment)', df).fit()\r\n",
        "\r\n",
        "print(anova_lm(model))"
      ],
      "execution_count": 5,
      "outputs": [
        {
          "output_type": "stream",
          "text": [
            "                df        sum_sq      mean_sq         F    PR(>F)\n",
            "C(treatment)   2.0  15515.766414  7757.883207  3.711336  0.043589\n",
            "Residual      19.0  39716.097222  2090.320906       NaN       NaN\n"
          ],
          "name": "stdout"
        }
      ]
    },
    {
      "cell_type": "markdown",
      "metadata": {
        "id": "FJ4slgQmOUbu"
      },
      "source": [
        "## two way anova\r\n",
        "\r\n",
        "독립변인의 수가 두 개 이상일 때 집단 간 차이가 유의한지를 검증하는 데 사용합니다. 상호작용효과(Interaction effect), 한 변수의 변화가 결과에 미치는 영향이 다른 변수의 수준에 따라 달라지는지를 확인하기 위해 사용됩니다.\r\n",
        "\r\n",
        "예제 데이터(altman_12_6) 설명\r\n",
        "태아의 머리 둘레 측정 데이터입니다. 4명의 관측자가 3명의 태아를 대상으로 측정을 했습니다. 이를 통해서 초음파로 태아의 머리 둘레측정 데이터가 재현성이 있는지를 조사하였습니다.\r\n"
      ]
    },
    {
      "cell_type": "code",
      "metadata": {
        "colab": {
          "base_uri": "https://localhost:8080/",
          "height": 319
        },
        "id": "fcWqIv1fOERt",
        "outputId": "4354d524-d383-414e-9c74-4fde0090f6d1"
      },
      "source": [
        "inFile = 'altman_12_6.txt'\r\n",
        "url_base = 'https://raw.githubusercontent.com/thomas-haslwanter/statsintro_python/master/ipynb/Data/data_altman/'\r\n",
        "url = url_base + inFile\r\n",
        "data = np.genfromtxt(urllib.request.urlopen(url), delimiter=',')\r\n",
        "\r\n",
        "# Bring them in dataframe-format\r\n",
        "df = pd.DataFrame(data, columns=['head_size', 'fetus', 'observer'])\r\n",
        "# df.tail()\r\n",
        "\r\n",
        "# 태아별 머리 둘레 plot 만들기\r\n",
        "df.boxplot(column = 'head_size', by='fetus' , grid = False)"
      ],
      "execution_count": 6,
      "outputs": [
        {
          "output_type": "execute_result",
          "data": {
            "text/plain": [
              "<matplotlib.axes._subplots.AxesSubplot at 0x7f6222d0ea58>"
            ]
          },
          "metadata": {
            "tags": []
          },
          "execution_count": 6
        },
        {
          "output_type": "display_data",
          "data": {
            "image/png": "[encoded data removed]",
            "text/plain": [
              "<Figure size 432x288 with 1 Axes>"
            ]
          },
          "metadata": {
            "tags": [],
            "needs_background": "light"
          }
        }
      ]
    },
    {
      "cell_type": "markdown",
      "metadata": {
        "id": "S4mAhRfnPU-t"
      },
      "source": [
        "그림을 보니 태아(fetus) 3명의 머리 둘레는 차이가 있어보입니다. 그런데 이것이 관측자와 상호작용이 있는것인지 분석을 통해 알아 보겠습니다.\r\n",
        "\r\n",
        "분산분석으로 상관관계¶\r\n",
        "statmodels 라이브러리를 사용해 간단하게 계산할 수 있습니다."
      ]
    },
    {
      "cell_type": "code",
      "metadata": {
        "colab": {
          "base_uri": "https://localhost:8080/"
        },
        "id": "7Wf5I1EtOWuk",
        "outputId": "f352970a-f6d8-4326-e7fe-0db4d392d1a3"
      },
      "source": [
        "formula = 'head_size ~ C(fetus) + C(observer) + C(fetus):C(observer)'\r\n",
        "lm = ols(formula, df).fit()\r\n",
        "print(anova_lm(lm))"
      ],
      "execution_count": 9,
      "outputs": [
        {
          "output_type": "stream",
          "text": [
            "                        df      sum_sq     mean_sq            F        PR(>F)\n",
            "C(fetus)               2.0  324.008889  162.004444  2113.101449  1.051039e-27\n",
            "C(observer)            3.0    1.198611    0.399537     5.211353  6.497055e-03\n",
            "C(fetus):C(observer)   6.0    0.562222    0.093704     1.222222  3.295509e-01\n",
            "Residual              24.0    1.840000    0.076667          NaN           NaN\n"
          ],
          "name": "stdout"
        }
      ]
    },
    {
      "cell_type": "markdown",
      "metadata": {
        "id": "oEKEjGU2Pdl-"
      },
      "source": [
        "P-value 가 0.05 이상 입니다, 따라서 귀무가설을 기각할 수 없고. 측정자와 태아의 머리둘레값에는 연관성이 없다고 할 수 있습니다. 측정하는 사람이 달라도 머리 둘레값은 일정하는 것이죠.\r\n",
        "\r\n",
        "결론적으로 초음파로 측정하는 태아의 머리둘레값은 믿을 수 있다는 것입니다."
      ]
    },
    {
      "cell_type": "markdown",
      "metadata": {
        "id": "6OoohLMEVVbW"
      },
      "source": [
        "## 또 다른 예시 (two way anova)\r\n",
        "##### 출처 : https://www.statology.org/two-way-anova-python/"
      ]
    },
    {
      "cell_type": "code",
      "metadata": {
        "colab": {
          "base_uri": "https://localhost:8080/",
          "height": 359
        },
        "id": "lIlhk1zJO_vN",
        "outputId": "82f55584-2049-4559-8bda-cf796048c9af"
      },
      "source": [
        "import numpy as np\r\n",
        "import pandas as pd\r\n",
        "\r\n",
        "#create data\r\n",
        "df = pd.DataFrame({'water': np.repeat(['daily', 'weekly'], 15),\r\n",
        "                   'sun': np.tile(np.repeat(['low', 'med', 'high'], 5), 2),\r\n",
        "                   'height': [6, 6, 6, 5, 6, 5, 5, 6, 4, 5,\r\n",
        "                              6, 6, 7, 8, 7, 3, 4, 4, 4, 5,\r\n",
        "                              4, 4, 4, 4, 4, 5, 6, 6, 7, 8]})\r\n",
        "\r\n",
        "#view first ten rows of data \r\n",
        "df[:10]"
      ],
      "execution_count": 11,
      "outputs": [
        {
          "output_type": "execute_result",
          "data": {
            "text/html": [
              "<div>\n",
              "<style scoped>\n",
              "    .dataframe tbody tr th:only-of-type {\n",
              "        vertical-align: middle;\n",
              "    }\n",
              "\n",
              "    .dataframe tbody tr th {\n",
              "        vertical-align: top;\n",
              "    }\n",
              "\n",
              "    .dataframe thead th {\n",
              "        text-align: right;\n",
              "    }\n",
              "</style>\n",
              "<table border=\"1\" class=\"dataframe\">\n",
              "  <thead>\n",
              "    <tr style=\"text-align: right;\">\n",
              "      <th></th>\n",
              "      <th>water</th>\n",
              "      <th>sun</th>\n",
              "      <th>height</th>\n",
              "    </tr>\n",
              "  </thead>\n",
              "  <tbody>\n",
              "    <tr>\n",
              "      <th>0</th>\n",
              "      <td>daily</td>\n",
              "      <td>low</td>\n",
              "      <td>6</td>\n",
              "    </tr>\n",
              "    <tr>\n",
              "      <th>1</th>\n",
              "      <td>daily</td>\n",
              "      <td>low</td>\n",
              "      <td>6</td>\n",
              "    </tr>\n",
              "    <tr>\n",
              "      <th>2</th>\n",
              "      <td>daily</td>\n",
              "      <td>low</td>\n",
              "      <td>6</td>\n",
              "    </tr>\n",
              "    <tr>\n",
              "      <th>3</th>\n",
              "      <td>daily</td>\n",
              "      <td>low</td>\n",
              "      <td>5</td>\n",
              "    </tr>\n",
              "    <tr>\n",
              "      <th>4</th>\n",
              "      <td>daily</td>\n",
              "      <td>low</td>\n",
              "      <td>6</td>\n",
              "    </tr>\n",
              "    <tr>\n",
              "      <th>5</th>\n",
              "      <td>daily</td>\n",
              "      <td>med</td>\n",
              "      <td>5</td>\n",
              "    </tr>\n",
              "    <tr>\n",
              "      <th>6</th>\n",
              "      <td>daily</td>\n",
              "      <td>med</td>\n",
              "      <td>5</td>\n",
              "    </tr>\n",
              "    <tr>\n",
              "      <th>7</th>\n",
              "      <td>daily</td>\n",
              "      <td>med</td>\n",
              "      <td>6</td>\n",
              "    </tr>\n",
              "    <tr>\n",
              "      <th>8</th>\n",
              "      <td>daily</td>\n",
              "      <td>med</td>\n",
              "      <td>4</td>\n",
              "    </tr>\n",
              "    <tr>\n",
              "      <th>9</th>\n",
              "      <td>daily</td>\n",
              "      <td>med</td>\n",
              "      <td>5</td>\n",
              "    </tr>\n",
              "  </tbody>\n",
              "</table>\n",
              "</div>"
            ],
            "text/plain": [
              "   water  sun  height\n",
              "0  daily  low       6\n",
              "1  daily  low       6\n",
              "2  daily  low       6\n",
              "3  daily  low       5\n",
              "4  daily  low       6\n",
              "5  daily  med       5\n",
              "6  daily  med       5\n",
              "7  daily  med       6\n",
              "8  daily  med       4\n",
              "9  daily  med       5"
            ]
          },
          "metadata": {
            "tags": []
          },
          "execution_count": 11
        }
      ]
    },
    {
      "cell_type": "code",
      "metadata": {
        "colab": {
          "base_uri": "https://localhost:8080/",
          "height": 173
        },
        "id": "W7WoXS4mVaEB",
        "outputId": "bc7b924b-2f48-49de-991f-9973307cf1f2"
      },
      "source": [
        "import statsmodels.api as sm\r\n",
        "from statsmodels.formula.api import ols\r\n",
        "\r\n",
        "#perform two-way ANOVA\r\n",
        "model = ols('height ~ C(water) + C(sun) + C(water):C(sun)', data=df).fit()\r\n",
        "sm.stats.anova_lm(model, typ=2)"
      ],
      "execution_count": 12,
      "outputs": [
        {
          "output_type": "execute_result",
          "data": {
            "text/html": [
              "<div>\n",
              "<style scoped>\n",
              "    .dataframe tbody tr th:only-of-type {\n",
              "        vertical-align: middle;\n",
              "    }\n",
              "\n",
              "    .dataframe tbody tr th {\n",
              "        vertical-align: top;\n",
              "    }\n",
              "\n",
              "    .dataframe thead th {\n",
              "        text-align: right;\n",
              "    }\n",
              "</style>\n",
              "<table border=\"1\" class=\"dataframe\">\n",
              "  <thead>\n",
              "    <tr style=\"text-align: right;\">\n",
              "      <th></th>\n",
              "      <th>sum_sq</th>\n",
              "      <th>df</th>\n",
              "      <th>F</th>\n",
              "      <th>PR(&gt;F)</th>\n",
              "    </tr>\n",
              "  </thead>\n",
              "  <tbody>\n",
              "    <tr>\n",
              "      <th>C(water)</th>\n",
              "      <td>8.533333</td>\n",
              "      <td>1.0</td>\n",
              "      <td>16.0000</td>\n",
              "      <td>0.000527</td>\n",
              "    </tr>\n",
              "    <tr>\n",
              "      <th>C(sun)</th>\n",
              "      <td>24.866667</td>\n",
              "      <td>2.0</td>\n",
              "      <td>23.3125</td>\n",
              "      <td>0.000002</td>\n",
              "    </tr>\n",
              "    <tr>\n",
              "      <th>C(water):C(sun)</th>\n",
              "      <td>2.466667</td>\n",
              "      <td>2.0</td>\n",
              "      <td>2.3125</td>\n",
              "      <td>0.120667</td>\n",
              "    </tr>\n",
              "    <tr>\n",
              "      <th>Residual</th>\n",
              "      <td>12.800000</td>\n",
              "      <td>24.0</td>\n",
              "      <td>NaN</td>\n",
              "      <td>NaN</td>\n",
              "    </tr>\n",
              "  </tbody>\n",
              "</table>\n",
              "</div>"
            ],
            "text/plain": [
              "                    sum_sq    df        F    PR(>F)\n",
              "C(water)          8.533333   1.0  16.0000  0.000527\n",
              "C(sun)           24.866667   2.0  23.3125  0.000002\n",
              "C(water):C(sun)   2.466667   2.0   2.3125  0.120667\n",
              "Residual         12.800000  24.0      NaN       NaN"
            ]
          },
          "metadata": {
            "tags": []
          },
          "execution_count": 12
        }
      ]
    },
    {
      "cell_type": "markdown",
      "metadata": {
        "id": "PmFp-g5UVj9l"
      },
      "source": [
        "Step 3: Interpret the results.\r\n",
        "\r\n",
        "We can see the following p-values for each of the factors in the table:\r\n",
        "\r\n",
        "water: p-value = .000527\r\n",
        "sun: p-value = .0000002\r\n",
        "water*sun: p-value = .120667\r\n",
        "Since the p-values for water and sun are both less than .05, this means that both factors have a statistically significant effect on plant height.\r\n",
        "\r\n",
        "And since the p-value for the interaction effect (.120667) is not less than .05, this tells us that there is no significant interaction effect between sunlight exposure and watering frequency.\r\n",
        "\r\n",
        "Note: Although the ANOVA results tell us that watering frequency and sunlight exposure have a statistically significant effect on plant height, we would need to perform post-hoc tests to determine exactly how different levels of water and sunlight affect plant height."
      ]
    },
    {
      "cell_type": "code",
      "metadata": {
        "id": "lc0b7WaYVfr_"
      },
      "source": [
        ""
      ],
      "execution_count": null,
      "outputs": []
    }
  ]
}