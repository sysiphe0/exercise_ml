{
  "nbformat": 4,
  "nbformat_minor": 0,
  "metadata": {
    "colab": {
      "name": "evaluation_code.ipynb",
      "provenance": [],
      "authorship_tag": "ABX9TyNHDqiBTTElELvVzEyE0Eg7",
      "include_colab_link": true
    },
    "kernelspec": {
      "name": "python3",
      "display_name": "Python 3"
    }
  },
  "cells": [
    {
      "cell_type": "markdown",
      "metadata": {
        "id": "view-in-github",
        "colab_type": "text"
      },
      "source": [
        "<a href=\"https://colab.research.google.com/github/sysiphe0/exercise_ml/blob/main/evaluation_code.ipynb\" target=\"_parent\"><img src=\"https://colab.research.google.com/assets/colab-badge.svg\" alt=\"Open In Colab\"/></a>"
      ]
    },
    {
      "cell_type": "code",
      "metadata": {
        "id": "JTtn0DkTXNiy"
      },
      "source": [
        "import pandas as pd\r\n",
        "import numpy as np\r\n",
        "from sklearn import datasets\r\n",
        "from sklearn.model_selection import train_test_split\r\n",
        "datas = datasets.load_diabetes()"
      ],
      "execution_count": 1,
      "outputs": []
    },
    {
      "cell_type": "code",
      "metadata": {
        "id": "rCQBBJyHXZzb"
      },
      "source": [
        "df = pd.DataFrame(datas.data, columns = datas.feature_names)\r\n",
        "y = pd.DataFrame(datas.target, columns=['y'])\r\n",
        "df = pd.concat([df, y], axis=1)\r\n",
        "train, test = train_test_split(df, test_size=0.3, random_state=123)"
      ],
      "execution_count": 4,
      "outputs": []
    },
    {
      "cell_type": "code",
      "metadata": {
        "colab": {
          "base_uri": "https://localhost:8080/"
        },
        "id": "ejfHPzXaX332",
        "outputId": "58c953cf-2a04-4d73-e856-bfb10fb5216c"
      },
      "source": [
        "from sklearn.linear_model import LinearRegression\r\n",
        "lr = LinearRegression()\r\n",
        "lr.fit(train.drop(columns='y'), train.y)"
      ],
      "execution_count": 6,
      "outputs": [
        {
          "output_type": "execute_result",
          "data": {
            "text/plain": [
              "LinearRegression(copy_X=True, fit_intercept=True, n_jobs=None, normalize=False)"
            ]
          },
          "metadata": {
            "tags": []
          },
          "execution_count": 6
        }
      ]
    },
    {
      "cell_type": "code",
      "metadata": {
        "id": "ypEfqrw-YDPf"
      },
      "source": [
        "y_pred = lr.predict(test.drop(columns='y'))\r\n",
        "y_true = test.y"
      ],
      "execution_count": 7,
      "outputs": []
    },
    {
      "cell_type": "markdown",
      "metadata": {
        "id": "ePMikpa7YNVm"
      },
      "source": [
        "### 평균 제곱 오차 mean squared error"
      ]
    },
    {
      "cell_type": "code",
      "metadata": {
        "id": "X_4N2xwLYLmm"
      },
      "source": [
        "from sklearn.metrics import mean_squared_error, mean_absolute_error\r\n",
        "mse = mean_squared_error(y_true, y_pred)\r\n",
        "rmse = np.sqrt(mean_squared_error(y_true, y_pred))\r\n",
        "mae = mean_absolute_error(y_true, y_pred)"
      ],
      "execution_count": 16,
      "outputs": []
    },
    {
      "cell_type": "code",
      "metadata": {
        "id": "B7MxNV9zYYEv"
      },
      "source": [
        "# 평균 제곱 오차 mean squared error\r\n",
        "def MSE(y, pred):\r\n",
        "  return np.mean(np.square(y-pred))\r\n",
        "\r\n",
        "# 평균 제곱근 오차 root mean squared error\r\n",
        "def RMSE(y, pred):\r\n",
        "  return np.sqrt(np.mean(np.square(y-pred)))\r\n",
        "\r\n",
        "# 평균 절대 오차 mean absolute error\r\n",
        "def MAE(y, pred):\r\n",
        "  return np.mean(np.abs(y-pred))\r\n",
        "\r\n",
        "# 평균 백분율 오차 mean percentage error\r\n",
        "def MPE(y, pred):\r\n",
        "  return np.mean((y-pred)/y)*100\r\n",
        "\r\n",
        "# 평균 절대 백분율 오차 mean abolute percentage error\r\n",
        "def MAPE(y, pred):\r\n",
        "  return np.mean(np.abs((y-pred)/y)*100)"
      ],
      "execution_count": 15,
      "outputs": []
    },
    {
      "cell_type": "code",
      "metadata": {
        "colab": {
          "base_uri": "https://localhost:8080/"
        },
        "id": "B3WOY7RfYc8O",
        "outputId": "24b0a6cd-27b5-4d1b-f3dc-e41c3521bd38"
      },
      "source": [
        "print(mse, rmse, mae)\r\n",
        "print(MSE(y_true, y_pred), RMSE(y_true, y_pred), MAE(y_true, y_pred))\r\n",
        "print(MPE(y_true, y_pred), MAPE(y_true, y_pred))"
      ],
      "execution_count": 19,
      "outputs": [
        {
          "output_type": "stream",
          "text": [
            "2926.800577246884 54.09991291348706 44.48057319064367\n",
            "2926.8005772468846 54.09991291348707 44.480573190643646\n",
            "-19.39964443585403 39.72672552788672\n"
          ],
          "name": "stdout"
        }
      ]
    },
    {
      "cell_type": "code",
      "metadata": {
        "id": "q32s8R4bYfV3"
      },
      "source": [
        ""
      ],
      "execution_count": null,
      "outputs": []
    }
  ]
}