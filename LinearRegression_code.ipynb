{
  "nbformat": 4,
  "nbformat_minor": 0,
  "metadata": {
    "colab": {
      "name": "LinearRegression_code.ipynb",
      "provenance": [],
      "collapsed_sections": [],
      "authorship_tag": "ABX9TyM+QNKdUdiLLMe/7gAmT6eb",
      "include_colab_link": true
    },
    "kernelspec": {
      "name": "python3",
      "display_name": "Python 3"
    }
  },
  "cells": [
    {
      "cell_type": "markdown",
      "metadata": {
        "id": "view-in-github",
        "colab_type": "text"
      },
      "source": [
        "<a href=\"https://colab.research.google.com/github/sysiphe0/exercise_ml/blob/main/LinearRegression_code.ipynb\" target=\"_parent\"><img src=\"https://colab.research.google.com/assets/colab-badge.svg\" alt=\"Open In Colab\"/></a>"
      ]
    },
    {
      "cell_type": "markdown",
      "metadata": {
        "id": "qKar0oK7kq75"
      },
      "source": [
        "##### 참고(출처) : Carl's Tech Bolg (https://wotres.tistory.com/)"
      ]
    },
    {
      "cell_type": "code",
      "metadata": {
        "id": "MQzKQ3txFwWs"
      },
      "source": [
        "from sklearn import datasets\r\n",
        "from sklearn.model_selection import train_test_split\r\n",
        "import numpy as np\r\n",
        "import pandas as pd\r\n",
        "datas = datasets.load_diabetes()\r\n",
        "\r\n",
        "df = pd.DataFrame(datas.data, columns = datas.feature_names)\r\n",
        "y = pd.DataFrame(datas.target, columns=['y'])\r\n",
        "df = pd.concat([df, y], axis=1)\r\n",
        "train, test = train_test_split(df, test_size=0.3, random_state=123)"
      ],
      "execution_count": 1,
      "outputs": []
    },
    {
      "cell_type": "code",
      "metadata": {
        "id": "GUQ3SByQGA-0"
      },
      "source": [
        "cols = train.columns"
      ],
      "execution_count": 2,
      "outputs": []
    },
    {
      "cell_type": "code",
      "metadata": {
        "colab": {
          "base_uri": "https://localhost:8080/"
        },
        "id": "tcF7l5uGGFBS",
        "outputId": "4b1a2095-3fdb-442c-9ece-1a16be9fbcc7"
      },
      "source": [
        "from sklearn.linear_model import LinearRegression\r\n",
        "# 독립변수 == 설명변수\r\n",
        "# 선형회귀 - 절편이 있는 경우\r\n",
        "lr = LinearRegression()\r\n",
        "# 절편(Intercept) 없는 경우\r\n",
        "#lr = LinearRegression(fit_intercept = False)\r\n",
        "lr.fit(train.iloc[:, :-1], train.y)"
      ],
      "execution_count": 4,
      "outputs": [
        {
          "output_type": "execute_result",
          "data": {
            "text/plain": [
              "LinearRegression(copy_X=True, fit_intercept=True, n_jobs=None, normalize=False)"
            ]
          },
          "metadata": {
            "tags": []
          },
          "execution_count": 4
        }
      ]
    },
    {
      "cell_type": "code",
      "metadata": {
        "id": "HOWDu2b2GYMC"
      },
      "source": [
        "pred = lr.predict(test.iloc[:,:-1])"
      ],
      "execution_count": 5,
      "outputs": []
    },
    {
      "cell_type": "code",
      "metadata": {
        "colab": {
          "base_uri": "https://localhost:8080/"
        },
        "id": "Kq3tpWLVGd-B",
        "outputId": "d41c045a-e2eb-4082-c3f2-191f30b742be"
      },
      "source": [
        "# 회귀계수\r\n",
        "lr.coef_"
      ],
      "execution_count": 6,
      "outputs": [
        {
          "output_type": "execute_result",
          "data": {
            "text/plain": [
              "array([  10.45384922, -261.16601105,  538.84541221,  280.72544466,\n",
              "       -855.21447839,  472.17305267,  166.51881384,  309.88763264,\n",
              "        684.0489522 ,  102.37723262])"
            ]
          },
          "metadata": {
            "tags": []
          },
          "execution_count": 6
        }
      ]
    },
    {
      "cell_type": "code",
      "metadata": {
        "colab": {
          "base_uri": "https://localhost:8080/"
        },
        "id": "2iAppAWSGf6x",
        "outputId": "6a8ae61f-c2c6-451e-aef3-c9d0de9de5d0"
      },
      "source": [
        "# 영향력이 큰 또는 예측값이 큰 변수 구할때 = 회귀계수 가장 큰 값과 해당 변수명 구하기\r\n",
        "print(lr.coef_[lr.coef_.argmax()])\r\n",
        "print(cols[lr.coef_.argmax()])"
      ],
      "execution_count": 8,
      "outputs": [
        {
          "output_type": "stream",
          "text": [
            "684.0489521950237\n",
            "s5\n"
          ],
          "name": "stdout"
        }
      ]
    },
    {
      "cell_type": "code",
      "metadata": {
        "colab": {
          "base_uri": "https://localhost:8080/"
        },
        "id": "JfX6YjwqGvfK",
        "outputId": "92786ee5-8626-4621-a300-715559c31bdf"
      },
      "source": [
        "# 절편구할때\r\n",
        "lr.intercept_"
      ],
      "execution_count": 9,
      "outputs": [
        {
          "output_type": "execute_result",
          "data": {
            "text/plain": [
              "152.61083063288848"
            ]
          },
          "metadata": {
            "tags": []
          },
          "execution_count": 9
        }
      ]
    },
    {
      "cell_type": "code",
      "metadata": {
        "colab": {
          "base_uri": "https://localhost:8080/"
        },
        "id": "8NyUXJ8RG2WC",
        "outputId": "d3e3e6ec-7717-4005-e6c1-47c616983030"
      },
      "source": [
        "# [1,1,1,1,1,1,1,1,1,?] 이고 y = 100 일때  ? 값\r\n",
        "arr = [1,1,1,1,1,1,1,1,1,'?']\r\n",
        "arr = arr[:-1]\r\n",
        "ans = (100 - lr.intercept_ - np.dot(arr, lr.coef_[:-1].reshape(-1, 1)))/lr.coef_[-1]\r\n",
        "print(ans)"
      ],
      "execution_count": 10,
      "outputs": [
        {
          "output_type": "stream",
          "text": [
            "[-13.66400969]\n"
          ],
          "name": "stdout"
        }
      ]
    },
    {
      "cell_type": "code",
      "metadata": {
        "colab": {
          "base_uri": "https://localhost:8080/"
        },
        "id": "dG3rTjkEHG6J",
        "outputId": "baf664ce-e30b-4617-f9e8-81d7c1d58600"
      },
      "source": [
        "# 결정계수\r\n",
        "# 선형회귀분석에서 종속변수에 대한 설명변수들의 설명력을 알고자 할 때 사용\r\n",
        "# 총변동 중 회귀선에 의한 변동이 차지하는 비율\r\n",
        "# r2 = 0.4 = 약 40% 설명\r\n",
        "from sklearn.metrics import r2_score\r\n",
        "\r\n",
        "# 결정 계수\r\n",
        "print(r2_score(test.y, pred))"
      ],
      "execution_count": 11,
      "outputs": [
        {
          "output_type": "stream",
          "text": [
            "0.507828558489374\n"
          ],
          "name": "stdout"
        }
      ]
    },
    {
      "cell_type": "markdown",
      "metadata": {
        "id": "ih6UWq5jHc0Z"
      },
      "source": [
        "### statsmodels 사용 (식 직접 적는 법)"
      ]
    },
    {
      "cell_type": "code",
      "metadata": {
        "colab": {
          "base_uri": "https://localhost:8080/",
          "height": 633
        },
        "id": "cN62z8sZHYOy",
        "outputId": "22b05f44-fe77-41ae-e61b-cb0722c7e343"
      },
      "source": [
        "# 선형 회귀 LinearRegression - statesmodel.formula.api 사용\r\n",
        "from statsmodels.formula.api import ols\r\n",
        "s = 'y ~ '\r\n",
        "for i, c in enumerate(cols[:-1]):\r\n",
        "  if i==0:\r\n",
        "    s = s + c\r\n",
        "    continue\r\n",
        "  s = s + '+' + c\r\n",
        "\r\n",
        "# 아래 summary에서 P>|t| 를 통해 유의미한 개수 확인 가능 => 0.05 보다 작은 경우 유의미함\r\n",
        "ols(s, df).fit().summary()"
      ],
      "execution_count": 13,
      "outputs": [
        {
          "output_type": "execute_result",
          "data": {
            "text/html": [
              "<table class=\"simpletable\">\n",
              "<caption>OLS Regression Results</caption>\n",
              "<tr>\n",
              "  <th>Dep. Variable:</th>            <td>y</td>        <th>  R-squared:         </th> <td>   0.518</td>\n",
              "</tr>\n",
              "<tr>\n",
              "  <th>Model:</th>                   <td>OLS</td>       <th>  Adj. R-squared:    </th> <td>   0.507</td>\n",
              "</tr>\n",
              "<tr>\n",
              "  <th>Method:</th>             <td>Least Squares</td>  <th>  F-statistic:       </th> <td>   46.27</td>\n",
              "</tr>\n",
              "<tr>\n",
              "  <th>Date:</th>             <td>Sat, 12 Dec 2020</td> <th>  Prob (F-statistic):</th> <td>3.83e-62</td>\n",
              "</tr>\n",
              "<tr>\n",
              "  <th>Time:</th>                 <td>08:45:13</td>     <th>  Log-Likelihood:    </th> <td> -2386.0</td>\n",
              "</tr>\n",
              "<tr>\n",
              "  <th>No. Observations:</th>      <td>   442</td>      <th>  AIC:               </th> <td>   4794.</td>\n",
              "</tr>\n",
              "<tr>\n",
              "  <th>Df Residuals:</th>          <td>   431</td>      <th>  BIC:               </th> <td>   4839.</td>\n",
              "</tr>\n",
              "<tr>\n",
              "  <th>Df Model:</th>              <td>    10</td>      <th>                     </th>     <td> </td>   \n",
              "</tr>\n",
              "<tr>\n",
              "  <th>Covariance Type:</th>      <td>nonrobust</td>    <th>                     </th>     <td> </td>   \n",
              "</tr>\n",
              "</table>\n",
              "<table class=\"simpletable\">\n",
              "<tr>\n",
              "      <td></td>         <th>coef</th>     <th>std err</th>      <th>t</th>      <th>P>|t|</th>  <th>[0.025</th>    <th>0.975]</th>  \n",
              "</tr>\n",
              "<tr>\n",
              "  <th>Intercept</th> <td>  152.1335</td> <td>    2.576</td> <td>   59.061</td> <td> 0.000</td> <td>  147.071</td> <td>  157.196</td>\n",
              "</tr>\n",
              "<tr>\n",
              "  <th>age</th>       <td>  -10.0122</td> <td>   59.749</td> <td>   -0.168</td> <td> 0.867</td> <td> -127.448</td> <td>  107.424</td>\n",
              "</tr>\n",
              "<tr>\n",
              "  <th>sex</th>       <td> -239.8191</td> <td>   61.222</td> <td>   -3.917</td> <td> 0.000</td> <td> -360.151</td> <td> -119.488</td>\n",
              "</tr>\n",
              "<tr>\n",
              "  <th>bmi</th>       <td>  519.8398</td> <td>   66.534</td> <td>    7.813</td> <td> 0.000</td> <td>  389.069</td> <td>  650.610</td>\n",
              "</tr>\n",
              "<tr>\n",
              "  <th>bp</th>        <td>  324.3904</td> <td>   65.422</td> <td>    4.958</td> <td> 0.000</td> <td>  195.805</td> <td>  452.976</td>\n",
              "</tr>\n",
              "<tr>\n",
              "  <th>s1</th>        <td> -792.1842</td> <td>  416.684</td> <td>   -1.901</td> <td> 0.058</td> <td>-1611.169</td> <td>   26.801</td>\n",
              "</tr>\n",
              "<tr>\n",
              "  <th>s2</th>        <td>  476.7458</td> <td>  339.035</td> <td>    1.406</td> <td> 0.160</td> <td> -189.621</td> <td> 1143.113</td>\n",
              "</tr>\n",
              "<tr>\n",
              "  <th>s3</th>        <td>  101.0446</td> <td>  212.533</td> <td>    0.475</td> <td> 0.635</td> <td> -316.685</td> <td>  518.774</td>\n",
              "</tr>\n",
              "<tr>\n",
              "  <th>s4</th>        <td>  177.0642</td> <td>  161.476</td> <td>    1.097</td> <td> 0.273</td> <td> -140.313</td> <td>  494.442</td>\n",
              "</tr>\n",
              "<tr>\n",
              "  <th>s5</th>        <td>  751.2793</td> <td>  171.902</td> <td>    4.370</td> <td> 0.000</td> <td>  413.409</td> <td> 1089.150</td>\n",
              "</tr>\n",
              "<tr>\n",
              "  <th>s6</th>        <td>   67.6254</td> <td>   65.984</td> <td>    1.025</td> <td> 0.306</td> <td>  -62.065</td> <td>  197.316</td>\n",
              "</tr>\n",
              "</table>\n",
              "<table class=\"simpletable\">\n",
              "<tr>\n",
              "  <th>Omnibus:</th>       <td> 1.506</td> <th>  Durbin-Watson:     </th> <td>   2.029</td>\n",
              "</tr>\n",
              "<tr>\n",
              "  <th>Prob(Omnibus):</th> <td> 0.471</td> <th>  Jarque-Bera (JB):  </th> <td>   1.404</td>\n",
              "</tr>\n",
              "<tr>\n",
              "  <th>Skew:</th>          <td> 0.017</td> <th>  Prob(JB):          </th> <td>   0.496</td>\n",
              "</tr>\n",
              "<tr>\n",
              "  <th>Kurtosis:</th>      <td> 2.726</td> <th>  Cond. No.          </th> <td>    227.</td>\n",
              "</tr>\n",
              "</table><br/><br/>Warnings:<br/>[1] Standard Errors assume that the covariance matrix of the errors is correctly specified."
            ],
            "text/plain": [
              "<class 'statsmodels.iolib.summary.Summary'>\n",
              "\"\"\"\n",
              "                            OLS Regression Results                            \n",
              "==============================================================================\n",
              "Dep. Variable:                      y   R-squared:                       0.518\n",
              "Model:                            OLS   Adj. R-squared:                  0.507\n",
              "Method:                 Least Squares   F-statistic:                     46.27\n",
              "Date:                Sat, 12 Dec 2020   Prob (F-statistic):           3.83e-62\n",
              "Time:                        08:45:13   Log-Likelihood:                -2386.0\n",
              "No. Observations:                 442   AIC:                             4794.\n",
              "Df Residuals:                     431   BIC:                             4839.\n",
              "Df Model:                          10                                         \n",
              "Covariance Type:            nonrobust                                         \n",
              "==============================================================================\n",
              "                 coef    std err          t      P>|t|      [0.025      0.975]\n",
              "------------------------------------------------------------------------------\n",
              "Intercept    152.1335      2.576     59.061      0.000     147.071     157.196\n",
              "age          -10.0122     59.749     -0.168      0.867    -127.448     107.424\n",
              "sex         -239.8191     61.222     -3.917      0.000    -360.151    -119.488\n",
              "bmi          519.8398     66.534      7.813      0.000     389.069     650.610\n",
              "bp           324.3904     65.422      4.958      0.000     195.805     452.976\n",
              "s1          -792.1842    416.684     -1.901      0.058   -1611.169      26.801\n",
              "s2           476.7458    339.035      1.406      0.160    -189.621    1143.113\n",
              "s3           101.0446    212.533      0.475      0.635    -316.685     518.774\n",
              "s4           177.0642    161.476      1.097      0.273    -140.313     494.442\n",
              "s5           751.2793    171.902      4.370      0.000     413.409    1089.150\n",
              "s6            67.6254     65.984      1.025      0.306     -62.065     197.316\n",
              "==============================================================================\n",
              "Omnibus:                        1.506   Durbin-Watson:                   2.029\n",
              "Prob(Omnibus):                  0.471   Jarque-Bera (JB):                1.404\n",
              "Skew:                           0.017   Prob(JB):                        0.496\n",
              "Kurtosis:                       2.726   Cond. No.                         227.\n",
              "==============================================================================\n",
              "\n",
              "Warnings:\n",
              "[1] Standard Errors assume that the covariance matrix of the errors is correctly specified.\n",
              "\"\"\""
            ]
          },
          "metadata": {
            "tags": []
          },
          "execution_count": 13
        }
      ]
    },
    {
      "cell_type": "markdown",
      "metadata": {
        "id": "VdAEIpm9IHbV"
      },
      "source": [
        "### statsmodels 사용 (바로 x,y 대입)"
      ]
    },
    {
      "cell_type": "code",
      "metadata": {
        "id": "1QDQ8dvBH7Ha"
      },
      "source": [
        "# 선형 회귀 LinearRegression - statsmodel.api 사용\r\n",
        "from statsmodels.api import OLS, add_constant\r\n",
        "# const 칼럼 추가\r\n",
        "# add_constant 안하면  r2 score 구할때 uncentered 되어 조금 다르게 나옴\r\n",
        "\r\n",
        "train_data = add_constant(train)\r\n",
        "model = OLS(train_data.y, train_data.drop(columns='y')).fit()"
      ],
      "execution_count": 14,
      "outputs": []
    },
    {
      "cell_type": "code",
      "metadata": {
        "colab": {
          "base_uri": "https://localhost:8080/"
        },
        "id": "RlGIJkwXIeZC",
        "outputId": "fae462d2-90a2-4690-b8bd-fe056060bfdd"
      },
      "source": [
        "# 유의미한 변수 확인\r\n",
        "p_cols = model.pvalues.index[model.pvalues <= 0.05]\r\n",
        "print(p_cols)"
      ],
      "execution_count": 16,
      "outputs": [
        {
          "output_type": "stream",
          "text": [
            "Index(['const', 'sex', 'bmi', 'bp', 's5'], dtype='object')\n"
          ],
          "name": "stdout"
        }
      ]
    },
    {
      "cell_type": "code",
      "metadata": {
        "colab": {
          "base_uri": "https://localhost:8080/",
          "height": 419
        },
        "id": "3PKC4MY0IjeB",
        "outputId": "1dfb3ede-0185-4d88-f439-bed6d0ad2964"
      },
      "source": [
        "# 유의미한 변수로 재학습\r\n",
        "train_data_x = train_data[list(p_cols)[1:] + ['y']]\r\n",
        "train_data_x = add_constant(train_data_x)\r\n",
        "train_data_x"
      ],
      "execution_count": 18,
      "outputs": [
        {
          "output_type": "execute_result",
          "data": {
            "text/html": [
              "<div>\n",
              "<style scoped>\n",
              "    .dataframe tbody tr th:only-of-type {\n",
              "        vertical-align: middle;\n",
              "    }\n",
              "\n",
              "    .dataframe tbody tr th {\n",
              "        vertical-align: top;\n",
              "    }\n",
              "\n",
              "    .dataframe thead th {\n",
              "        text-align: right;\n",
              "    }\n",
              "</style>\n",
              "<table border=\"1\" class=\"dataframe\">\n",
              "  <thead>\n",
              "    <tr style=\"text-align: right;\">\n",
              "      <th></th>\n",
              "      <th>const</th>\n",
              "      <th>sex</th>\n",
              "      <th>bmi</th>\n",
              "      <th>bp</th>\n",
              "      <th>s5</th>\n",
              "      <th>y</th>\n",
              "    </tr>\n",
              "  </thead>\n",
              "  <tbody>\n",
              "    <tr>\n",
              "      <th>374</th>\n",
              "      <td>1.0</td>\n",
              "      <td>-0.044642</td>\n",
              "      <td>-0.034229</td>\n",
              "      <td>-0.067642</td>\n",
              "      <td>-0.000609</td>\n",
              "      <td>140.0</td>\n",
              "    </tr>\n",
              "    <tr>\n",
              "      <th>420</th>\n",
              "      <td>1.0</td>\n",
              "      <td>-0.044642</td>\n",
              "      <td>-0.036385</td>\n",
              "      <td>0.000068</td>\n",
              "      <td>-0.033249</td>\n",
              "      <td>146.0</td>\n",
              "    </tr>\n",
              "    <tr>\n",
              "      <th>204</th>\n",
              "      <td>1.0</td>\n",
              "      <td>0.050680</td>\n",
              "      <td>0.006728</td>\n",
              "      <td>0.028758</td>\n",
              "      <td>0.002008</td>\n",
              "      <td>277.0</td>\n",
              "    </tr>\n",
              "    <tr>\n",
              "      <th>263</th>\n",
              "      <td>1.0</td>\n",
              "      <td>0.050680</td>\n",
              "      <td>-0.077342</td>\n",
              "      <td>-0.046985</td>\n",
              "      <td>-0.072128</td>\n",
              "      <td>116.0</td>\n",
              "    </tr>\n",
              "    <tr>\n",
              "      <th>285</th>\n",
              "      <td>1.0</td>\n",
              "      <td>-0.044642</td>\n",
              "      <td>-0.020218</td>\n",
              "      <td>-0.015999</td>\n",
              "      <td>0.059881</td>\n",
              "      <td>233.0</td>\n",
              "    </tr>\n",
              "    <tr>\n",
              "      <th>...</th>\n",
              "      <td>...</td>\n",
              "      <td>...</td>\n",
              "      <td>...</td>\n",
              "      <td>...</td>\n",
              "      <td>...</td>\n",
              "      <td>...</td>\n",
              "    </tr>\n",
              "    <tr>\n",
              "      <th>230</th>\n",
              "      <td>1.0</td>\n",
              "      <td>0.050680</td>\n",
              "      <td>0.071397</td>\n",
              "      <td>-0.057314</td>\n",
              "      <td>0.050276</td>\n",
              "      <td>220.0</td>\n",
              "    </tr>\n",
              "    <tr>\n",
              "      <th>98</th>\n",
              "      <td>1.0</td>\n",
              "      <td>0.050680</td>\n",
              "      <td>-0.005128</td>\n",
              "      <td>-0.012556</td>\n",
              "      <td>-0.006080</td>\n",
              "      <td>92.0</td>\n",
              "    </tr>\n",
              "    <tr>\n",
              "      <th>322</th>\n",
              "      <td>1.0</td>\n",
              "      <td>0.050680</td>\n",
              "      <td>0.061696</td>\n",
              "      <td>0.062039</td>\n",
              "      <td>0.133396</td>\n",
              "      <td>242.0</td>\n",
              "    </tr>\n",
              "    <tr>\n",
              "      <th>382</th>\n",
              "      <td>1.0</td>\n",
              "      <td>-0.044642</td>\n",
              "      <td>0.060618</td>\n",
              "      <td>-0.022885</td>\n",
              "      <td>0.104138</td>\n",
              "      <td>132.0</td>\n",
              "    </tr>\n",
              "    <tr>\n",
              "      <th>365</th>\n",
              "      <td>1.0</td>\n",
              "      <td>-0.044642</td>\n",
              "      <td>-0.038540</td>\n",
              "      <td>-0.012556</td>\n",
              "      <td>0.031193</td>\n",
              "      <td>206.0</td>\n",
              "    </tr>\n",
              "  </tbody>\n",
              "</table>\n",
              "<p>309 rows × 6 columns</p>\n",
              "</div>"
            ],
            "text/plain": [
              "     const       sex       bmi        bp        s5      y\n",
              "374    1.0 -0.044642 -0.034229 -0.067642 -0.000609  140.0\n",
              "420    1.0 -0.044642 -0.036385  0.000068 -0.033249  146.0\n",
              "204    1.0  0.050680  0.006728  0.028758  0.002008  277.0\n",
              "263    1.0  0.050680 -0.077342 -0.046985 -0.072128  116.0\n",
              "285    1.0 -0.044642 -0.020218 -0.015999  0.059881  233.0\n",
              "..     ...       ...       ...       ...       ...    ...\n",
              "230    1.0  0.050680  0.071397 -0.057314  0.050276  220.0\n",
              "98     1.0  0.050680 -0.005128 -0.012556 -0.006080   92.0\n",
              "322    1.0  0.050680  0.061696  0.062039  0.133396  242.0\n",
              "382    1.0 -0.044642  0.060618 -0.022885  0.104138  132.0\n",
              "365    1.0 -0.044642 -0.038540 -0.012556  0.031193  206.0\n",
              "\n",
              "[309 rows x 6 columns]"
            ]
          },
          "metadata": {
            "tags": []
          },
          "execution_count": 18
        }
      ]
    },
    {
      "cell_type": "code",
      "metadata": {
        "id": "cVEfIfd3I1Gp"
      },
      "source": [
        "model = OLS(train_data_x.y, train_data_x.drop(columns='y')).fit()"
      ],
      "execution_count": 19,
      "outputs": []
    },
    {
      "cell_type": "code",
      "metadata": {
        "id": "kTJRJge0JTjy"
      },
      "source": [
        "test_data_x = test[list(p_cols[1:])+['y']]\r\n",
        "test_data_x = add_constant(test_data_x)\r\n",
        "pred = model.predict(test_data_x.drop(columns='y'))"
      ],
      "execution_count": 21,
      "outputs": []
    },
    {
      "cell_type": "code",
      "metadata": {
        "colab": {
          "base_uri": "https://localhost:8080/"
        },
        "id": "rcq3m_WgJXuC",
        "outputId": "7c7a9b2d-1812-47ee-9708-eec017d94630"
      },
      "source": [
        "print(model.summary())"
      ],
      "execution_count": 22,
      "outputs": [
        {
          "output_type": "stream",
          "text": [
            "                            OLS Regression Results                            \n",
            "==============================================================================\n",
            "Dep. Variable:                      y   R-squared:                       0.478\n",
            "Model:                            OLS   Adj. R-squared:                  0.471\n",
            "Method:                 Least Squares   F-statistic:                     69.53\n",
            "Date:                Sat, 12 Dec 2020   Prob (F-statistic):           9.62e-42\n",
            "Time:                        08:51:42   Log-Likelihood:                -1680.0\n",
            "No. Observations:                 309   AIC:                             3370.\n",
            "Df Residuals:                     304   BIC:                             3389.\n",
            "Df Model:                           4                                         \n",
            "Covariance Type:            nonrobust                                         \n",
            "==============================================================================\n",
            "                 coef    std err          t      P>|t|      [0.025      0.975]\n",
            "------------------------------------------------------------------------------\n",
            "const        153.4090      3.189     48.105      0.000     147.134     159.684\n",
            "sex         -133.0806     68.857     -1.933      0.054    -268.578       2.416\n",
            "bmi          636.7988     77.905      8.174      0.000     483.498     790.100\n",
            "bp           263.2861     75.583      3.483      0.001     114.555     412.017\n",
            "s5           513.5713     76.233      6.737      0.000     363.560     663.582\n",
            "==============================================================================\n",
            "Omnibus:                        1.586   Durbin-Watson:                   2.184\n",
            "Prob(Omnibus):                  0.452   Jarque-Bera (JB):                1.537\n",
            "Skew:                           0.089   Prob(JB):                        0.464\n",
            "Kurtosis:                       2.704   Cond. No.                         28.5\n",
            "==============================================================================\n",
            "\n",
            "Warnings:\n",
            "[1] Standard Errors assume that the covariance matrix of the errors is correctly specified.\n"
          ],
          "name": "stdout"
        }
      ]
    },
    {
      "cell_type": "code",
      "metadata": {
        "colab": {
          "base_uri": "https://localhost:8080/"
        },
        "id": "XSii78w0JgZS",
        "outputId": "38d49f5c-1ae9-4e43-b3a0-adc3c1302fd5"
      },
      "source": [
        "# 모델 coefficient 추출\r\n",
        "print(model.params)"
      ],
      "execution_count": 23,
      "outputs": [
        {
          "output_type": "stream",
          "text": [
            "const    153.408997\n",
            "sex     -133.080599\n",
            "bmi      636.798757\n",
            "bp       263.286078\n",
            "s5       513.571282\n",
            "dtype: float64\n"
          ],
          "name": "stdout"
        }
      ]
    },
    {
      "cell_type": "code",
      "metadata": {
        "colab": {
          "base_uri": "https://localhost:8080/"
        },
        "id": "OMgJIoyxJoL7",
        "outputId": "905dc910-dc0f-4773-fe7c-5f2dfa12510e"
      },
      "source": [
        "# 모델 p_values 추출\r\n",
        "print(model.pvalues)"
      ],
      "execution_count": 24,
      "outputs": [
        {
          "output_type": "stream",
          "text": [
            "const    3.540973e-144\n",
            "sex       5.420117e-02\n",
            "bmi       8.145613e-15\n",
            "bp        5.677521e-04\n",
            "s5        8.104906e-11\n",
            "dtype: float64\n"
          ],
          "name": "stdout"
        }
      ]
    },
    {
      "cell_type": "code",
      "metadata": {
        "colab": {
          "base_uri": "https://localhost:8080/"
        },
        "id": "vLHcPRZxJsJq",
        "outputId": "61ed8203-973a-4ea3-c6ca-b91193301d08"
      },
      "source": [
        "# 모델 t_values\r\n",
        "print(model.tvalues)"
      ],
      "execution_count": 26,
      "outputs": [
        {
          "output_type": "stream",
          "text": [
            "const    48.105306\n",
            "sex      -1.932705\n",
            "bmi       8.174046\n",
            "bp        3.483424\n",
            "s5        6.736875\n",
            "dtype: float64\n"
          ],
          "name": "stdout"
        }
      ]
    },
    {
      "cell_type": "code",
      "metadata": {
        "colab": {
          "base_uri": "https://localhost:8080/"
        },
        "id": "VEXwGsq4Jv2T",
        "outputId": "4eddc11b-d057-476c-dbba-71bb99b9a472"
      },
      "source": [
        "# 결정계수 / 수정된 결정 계수\r\n",
        "print(model.rsquared, model.rsquared_adj)"
      ],
      "execution_count": 27,
      "outputs": [
        {
          "output_type": "stream",
          "text": [
            "0.47776198912466095 0.4708904363499855\n"
          ],
          "name": "stdout"
        }
      ]
    },
    {
      "cell_type": "code",
      "metadata": {
        "id": "bVtHC16MJ4dK"
      },
      "source": [
        ""
      ],
      "execution_count": null,
      "outputs": []
    }
  ]
}