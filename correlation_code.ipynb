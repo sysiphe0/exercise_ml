{
  "nbformat": 4,
  "nbformat_minor": 0,
  "metadata": {
    "colab": {
      "name": "correlation_code.ipynb",
      "provenance": [],
      "collapsed_sections": [],
      "authorship_tag": "ABX9TyNB3o4RLVS0ofKyB+6wBh2i",
      "include_colab_link": true
    },
    "kernelspec": {
      "name": "python3",
      "display_name": "Python 3"
    }
  },
  "cells": [
    {
      "cell_type": "markdown",
      "metadata": {
        "id": "view-in-github",
        "colab_type": "text"
      },
      "source": [
        "<a href=\"https://colab.research.google.com/github/sysiphe0/exercise_ml/blob/main/correlation_code.ipynb\" target=\"_parent\"><img src=\"https://colab.research.google.com/assets/colab-badge.svg\" alt=\"Open In Colab\"/></a>"
      ]
    },
    {
      "cell_type": "markdown",
      "metadata": {
        "id": "gf5G8gkvkyb0"
      },
      "source": [
        "##### 참고(출처) : Carl's Tech Bolg (https://wotres.tistory.com/)"
      ]
    },
    {
      "cell_type": "code",
      "metadata": {
        "colab": {
          "base_uri": "https://localhost:8080/"
        },
        "id": "vO8f1dInFyWr",
        "outputId": "112c47bb-a758-4a0d-a42f-cf75c16d3c48"
      },
      "source": [
        "import numpy as np\r\n",
        "from scipy import stats\r\n",
        "\r\n",
        "x = [-2.1, -1, 4.3]\r\n",
        "y = [3, 1.1, 0.12]\r\n",
        "\r\n",
        "# 공분산\r\n",
        "print(np.cov(x,y))"
      ],
      "execution_count": 1,
      "outputs": [
        {
          "output_type": "stream",
          "text": [
            "[[11.71       -4.286     ]\n",
            " [-4.286       2.14413333]]\n"
          ],
          "name": "stdout"
        }
      ]
    },
    {
      "cell_type": "code",
      "metadata": {
        "colab": {
          "base_uri": "https://localhost:8080/"
        },
        "id": "rndgUYJDKHrk",
        "outputId": "c1c4ae48-0f81-45c0-defa-f4395312ed85"
      },
      "source": [
        "# 공분산에 표준편차 나눠줌\r\n",
        "# ddof = 1은  n-1로 나눈 경우 => 자유도\r\n",
        "print(np.cov(x,y)[0,1] / (np.std(x, ddof=1)*np.std(y, ddof=1)))\r\n",
        "print(np.corrcoef(x,y)[0,1])"
      ],
      "execution_count": 2,
      "outputs": [
        {
          "output_type": "stream",
          "text": [
            "-0.8553578095227946\n",
            "-0.8553578095227946\n"
          ],
          "name": "stdout"
        }
      ]
    },
    {
      "cell_type": "code",
      "metadata": {
        "colab": {
          "base_uri": "https://localhost:8080/"
        },
        "id": "KJqDs-TmKUSz",
        "outputId": "d4ddf94d-990b-4db0-96fb-587b21b8e1e2"
      },
      "source": [
        "# spearman\r\n",
        "# 서열 척도를 사용한 변수일때 사용\r\n",
        "x = [1,2,3,4,5]\r\n",
        "y = [5,6,7,8,9]\r\n",
        "print(stats.spearmanr(x,y)) # 상관계수 & p_value\r\n",
        "print(stats.spearmanr(x,y).correlation)"
      ],
      "execution_count": 3,
      "outputs": [
        {
          "output_type": "stream",
          "text": [
            "SpearmanrResult(correlation=0.9999999999999999, pvalue=1.4042654220543672e-24)\n",
            "0.9999999999999999\n"
          ],
          "name": "stdout"
        }
      ]
    },
    {
      "cell_type": "code",
      "metadata": {
        "colab": {
          "base_uri": "https://localhost:8080/"
        },
        "id": "nxEStL-jKjHD",
        "outputId": "7cce8d49-3b17-4703-f612-5c382b04b766"
      },
      "source": [
        "# kendall\r\n",
        "# 비선형적관계이거나 서열변수일때 사용\r\n",
        "print(stats.kendalltau(x,y)) # 상관계수 & p_value"
      ],
      "execution_count": 4,
      "outputs": [
        {
          "output_type": "stream",
          "text": [
            "KendalltauResult(correlation=0.9999999999999999, pvalue=0.016666666666666666)\n"
          ],
          "name": "stdout"
        }
      ]
    },
    {
      "cell_type": "code",
      "metadata": {
        "colab": {
          "base_uri": "https://localhost:8080/"
        },
        "id": "s8W3nUXLKsYr",
        "outputId": "8670ddff-48b0-43a3-8f88-99b053d95c3b"
      },
      "source": [
        "# pandas 로 위 3개 가능\r\n",
        "import pandas as pd\r\n",
        "df = pd.DataFrame([(.2, .3), (.0, .6), (.6, .0), (.2, .1)], columns=['dogs','cats'])\r\n",
        "print(df.corr(method='pearson'))\r\n",
        "print(df.corr(method='spearman'))\r\n",
        "print(df.corr(method='kendall'))"
      ],
      "execution_count": 5,
      "outputs": [
        {
          "output_type": "stream",
          "text": [
            "          dogs      cats\n",
            "dogs  1.000000 -0.851064\n",
            "cats -0.851064  1.000000\n",
            "          dogs      cats\n",
            "dogs  1.000000 -0.948683\n",
            "cats -0.948683  1.000000\n",
            "          dogs      cats\n",
            "dogs  1.000000 -0.912871\n",
            "cats -0.912871  1.000000\n"
          ],
          "name": "stdout"
        }
      ]
    },
    {
      "cell_type": "code",
      "metadata": {
        "id": "TFGsq0i5LAkz"
      },
      "source": [
        ""
      ],
      "execution_count": null,
      "outputs": []
    }
  ]
}