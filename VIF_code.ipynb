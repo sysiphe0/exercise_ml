{
  "nbformat": 4,
  "nbformat_minor": 0,
  "metadata": {
    "colab": {
      "name": "VIF_code.ipynb",
      "provenance": [],
      "collapsed_sections": [],
      "authorship_tag": "ABX9TyMPVlUlIyQP8s4H0E2JZ3or",
      "include_colab_link": true
    },
    "kernelspec": {
      "name": "python3",
      "display_name": "Python 3"
    }
  },
  "cells": [
    {
      "cell_type": "markdown",
      "metadata": {
        "id": "view-in-github",
        "colab_type": "text"
      },
      "source": [
        "<a href=\"https://colab.research.google.com/github/sysiphe0/exercise_ml/blob/main/VIF_code.ipynb\" target=\"_parent\"><img src=\"https://colab.research.google.com/assets/colab-badge.svg\" alt=\"Open In Colab\"/></a>"
      ]
    },
    {
      "cell_type": "markdown",
      "metadata": {
        "id": "vY1W48GUkbg6"
      },
      "source": [
        "##### 참고(출처) : Carl's Tech Bolg (https://wotres.tistory.com/)"
      ]
    },
    {
      "cell_type": "code",
      "metadata": {
        "id": "Qef3BtkOgE2v"
      },
      "source": [
        "from statsmodels.api import OLS, add_constant\r\n",
        "from sklearn import datasets\r\n",
        "from sklearn.model_selection import train_test_split\r\n",
        "import pandas as pd\r\n",
        "datas = datasets.load_diabetes()\r\n",
        "\r\n",
        "df = pd.DataFrame(datas.data, columns = datas.feature_names)\r\n",
        "y = pd.DataFrame(datas.target, columns=['y'])\r\n",
        "df = pd.concat([df, y], axis=1)\r\n",
        "train, test = train_test_split(df, test_size=0.3, random_state=123)"
      ],
      "execution_count": null,
      "outputs": []
    },
    {
      "cell_type": "code",
      "metadata": {
        "id": "Wpqb1wb53luT"
      },
      "source": [
        "train_x = add_constant(train)"
      ],
      "execution_count": null,
      "outputs": []
    },
    {
      "cell_type": "code",
      "metadata": {
        "id": "1m1pBdnL3rXe"
      },
      "source": [
        "model = OLS(train.y, train_x.drop(columns='y')).fit()"
      ],
      "execution_count": null,
      "outputs": []
    },
    {
      "cell_type": "code",
      "metadata": {
        "id": "GTan3a013yRe"
      },
      "source": [
        "test_x = add_constant(test)"
      ],
      "execution_count": null,
      "outputs": []
    },
    {
      "cell_type": "code",
      "metadata": {
        "id": "PtzIAAU84tpv"
      },
      "source": [
        "pred = model.predict(test_x.drop(columns='y'))"
      ],
      "execution_count": null,
      "outputs": []
    },
    {
      "cell_type": "code",
      "metadata": {
        "colab": {
          "base_uri": "https://localhost:8080/"
        },
        "id": "38e5piQq4xuv",
        "outputId": "53717dbc-0e64-42bf-cd78-2ec742189e22"
      },
      "source": [
        "from sklearn.metrics import mean_squared_error\r\n",
        "print('제거전 : ', mean_squared_error(test.y, pred))\r\n",
        "from statsmodels.stats.outliers_influence import variance_inflation_factor\r\n",
        "vif = pd.DataFrame()\r\n",
        "vif['feature'] = train_x.drop(columns='y').columns\r\n",
        "vif['VIF Factor'] = [variance_inflation_factor(train_x.drop(columns='y').values, i) for i in range(train_x.drop(columns='y').shape[1])]"
      ],
      "execution_count": null,
      "outputs": [
        {
          "output_type": "stream",
          "text": [
            "제거전 :  2926.800577246884\n"
          ],
          "name": "stdout"
        }
      ]
    },
    {
      "cell_type": "code",
      "metadata": {
        "colab": {
          "base_uri": "https://localhost:8080/"
        },
        "id": "VzrA7sas5VOe",
        "outputId": "e21902b2-408c-4e75-81e9-16f1f2d3af72"
      },
      "source": [
        "# vif 확인 후 다중공선성 높게 나타난 변수 제거 drop\r\n",
        "print(vif)"
      ],
      "execution_count": null,
      "outputs": [
        {
          "output_type": "stream",
          "text": [
            "   feature  VIF Factor\n",
            "0    const    1.005335\n",
            "1      age    1.197504\n",
            "2      sex    1.286974\n",
            "3      bmi    1.529922\n",
            "4       bp    1.424025\n",
            "5       s1   58.778888\n",
            "6       s2   39.250774\n",
            "7       s3   14.104281\n",
            "8       s4    9.294533\n",
            "9       s5    9.887398\n",
            "10      s6    1.537123\n"
          ],
          "name": "stdout"
        }
      ]
    },
    {
      "cell_type": "code",
      "metadata": {
        "id": "-xy6ngSA5kL_"
      },
      "source": [
        "train_x = train_x.drop(columns=['s1'])"
      ],
      "execution_count": null,
      "outputs": []
    },
    {
      "cell_type": "code",
      "metadata": {
        "colab": {
          "base_uri": "https://localhost:8080/",
          "height": 419
        },
        "id": "Ct7_O5_55sAP",
        "outputId": "b141de38-e11e-4798-976f-55618415ae64"
      },
      "source": [
        "train_x"
      ],
      "execution_count": null,
      "outputs": [
        {
          "output_type": "execute_result",
          "data": {
            "text/html": [
              "<div>\n",
              "<style scoped>\n",
              "    .dataframe tbody tr th:only-of-type {\n",
              "        vertical-align: middle;\n",
              "    }\n",
              "\n",
              "    .dataframe tbody tr th {\n",
              "        vertical-align: top;\n",
              "    }\n",
              "\n",
              "    .dataframe thead th {\n",
              "        text-align: right;\n",
              "    }\n",
              "</style>\n",
              "<table border=\"1\" class=\"dataframe\">\n",
              "  <thead>\n",
              "    <tr style=\"text-align: right;\">\n",
              "      <th></th>\n",
              "      <th>const</th>\n",
              "      <th>age</th>\n",
              "      <th>sex</th>\n",
              "      <th>bmi</th>\n",
              "      <th>bp</th>\n",
              "      <th>s2</th>\n",
              "      <th>s3</th>\n",
              "      <th>s4</th>\n",
              "      <th>s5</th>\n",
              "      <th>s6</th>\n",
              "      <th>y</th>\n",
              "    </tr>\n",
              "  </thead>\n",
              "  <tbody>\n",
              "    <tr>\n",
              "      <th>374</th>\n",
              "      <td>1.0</td>\n",
              "      <td>-0.107226</td>\n",
              "      <td>-0.044642</td>\n",
              "      <td>-0.034229</td>\n",
              "      <td>-0.067642</td>\n",
              "      <td>-0.070520</td>\n",
              "      <td>0.008142</td>\n",
              "      <td>-0.039493</td>\n",
              "      <td>-0.000609</td>\n",
              "      <td>-0.079778</td>\n",
              "      <td>140.0</td>\n",
              "    </tr>\n",
              "    <tr>\n",
              "      <th>420</th>\n",
              "      <td>1.0</td>\n",
              "      <td>0.023546</td>\n",
              "      <td>-0.044642</td>\n",
              "      <td>-0.036385</td>\n",
              "      <td>0.000068</td>\n",
              "      <td>0.034698</td>\n",
              "      <td>-0.043401</td>\n",
              "      <td>0.034309</td>\n",
              "      <td>-0.033249</td>\n",
              "      <td>0.061054</td>\n",
              "      <td>146.0</td>\n",
              "    </tr>\n",
              "    <tr>\n",
              "      <th>204</th>\n",
              "      <td>1.0</td>\n",
              "      <td>0.110727</td>\n",
              "      <td>0.050680</td>\n",
              "      <td>0.006728</td>\n",
              "      <td>0.028758</td>\n",
              "      <td>-0.007264</td>\n",
              "      <td>-0.047082</td>\n",
              "      <td>0.034309</td>\n",
              "      <td>0.002008</td>\n",
              "      <td>0.077622</td>\n",
              "      <td>277.0</td>\n",
              "    </tr>\n",
              "    <tr>\n",
              "      <th>263</th>\n",
              "      <td>1.0</td>\n",
              "      <td>-0.074533</td>\n",
              "      <td>0.050680</td>\n",
              "      <td>-0.077342</td>\n",
              "      <td>-0.046985</td>\n",
              "      <td>-0.032629</td>\n",
              "      <td>0.004460</td>\n",
              "      <td>-0.039493</td>\n",
              "      <td>-0.072128</td>\n",
              "      <td>-0.017646</td>\n",
              "      <td>116.0</td>\n",
              "    </tr>\n",
              "    <tr>\n",
              "      <th>285</th>\n",
              "      <td>1.0</td>\n",
              "      <td>0.012648</td>\n",
              "      <td>-0.044642</td>\n",
              "      <td>-0.020218</td>\n",
              "      <td>-0.015999</td>\n",
              "      <td>0.021233</td>\n",
              "      <td>-0.076536</td>\n",
              "      <td>0.108111</td>\n",
              "      <td>0.059881</td>\n",
              "      <td>-0.021788</td>\n",
              "      <td>233.0</td>\n",
              "    </tr>\n",
              "    <tr>\n",
              "      <th>...</th>\n",
              "      <td>...</td>\n",
              "      <td>...</td>\n",
              "      <td>...</td>\n",
              "      <td>...</td>\n",
              "      <td>...</td>\n",
              "      <td>...</td>\n",
              "      <td>...</td>\n",
              "      <td>...</td>\n",
              "      <td>...</td>\n",
              "      <td>...</td>\n",
              "      <td>...</td>\n",
              "    </tr>\n",
              "    <tr>\n",
              "      <th>230</th>\n",
              "      <td>1.0</td>\n",
              "      <td>-0.038207</td>\n",
              "      <td>0.050680</td>\n",
              "      <td>0.071397</td>\n",
              "      <td>-0.057314</td>\n",
              "      <td>0.155887</td>\n",
              "      <td>0.000779</td>\n",
              "      <td>0.071948</td>\n",
              "      <td>0.050276</td>\n",
              "      <td>0.069338</td>\n",
              "      <td>220.0</td>\n",
              "    </tr>\n",
              "    <tr>\n",
              "      <th>98</th>\n",
              "      <td>1.0</td>\n",
              "      <td>0.001751</td>\n",
              "      <td>0.050680</td>\n",
              "      <td>-0.005128</td>\n",
              "      <td>-0.012556</td>\n",
              "      <td>-0.013840</td>\n",
              "      <td>0.008142</td>\n",
              "      <td>-0.039493</td>\n",
              "      <td>-0.006080</td>\n",
              "      <td>-0.067351</td>\n",
              "      <td>92.0</td>\n",
              "    </tr>\n",
              "    <tr>\n",
              "      <th>322</th>\n",
              "      <td>1.0</td>\n",
              "      <td>0.023546</td>\n",
              "      <td>0.050680</td>\n",
              "      <td>0.061696</td>\n",
              "      <td>0.062039</td>\n",
              "      <td>-0.036073</td>\n",
              "      <td>-0.091262</td>\n",
              "      <td>0.155345</td>\n",
              "      <td>0.133396</td>\n",
              "      <td>0.081764</td>\n",
              "      <td>242.0</td>\n",
              "    </tr>\n",
              "    <tr>\n",
              "      <th>382</th>\n",
              "      <td>1.0</td>\n",
              "      <td>0.048974</td>\n",
              "      <td>-0.044642</td>\n",
              "      <td>0.060618</td>\n",
              "      <td>-0.022885</td>\n",
              "      <td>-0.072712</td>\n",
              "      <td>-0.043401</td>\n",
              "      <td>-0.002592</td>\n",
              "      <td>0.104138</td>\n",
              "      <td>0.036201</td>\n",
              "      <td>132.0</td>\n",
              "    </tr>\n",
              "    <tr>\n",
              "      <th>365</th>\n",
              "      <td>1.0</td>\n",
              "      <td>0.034443</td>\n",
              "      <td>-0.044642</td>\n",
              "      <td>-0.038540</td>\n",
              "      <td>-0.012556</td>\n",
              "      <td>0.005262</td>\n",
              "      <td>-0.006584</td>\n",
              "      <td>-0.002592</td>\n",
              "      <td>0.031193</td>\n",
              "      <td>0.098333</td>\n",
              "      <td>206.0</td>\n",
              "    </tr>\n",
              "  </tbody>\n",
              "</table>\n",
              "<p>309 rows × 11 columns</p>\n",
              "</div>"
            ],
            "text/plain": [
              "     const       age       sex       bmi  ...        s4        s5        s6      y\n",
              "374    1.0 -0.107226 -0.044642 -0.034229  ... -0.039493 -0.000609 -0.079778  140.0\n",
              "420    1.0  0.023546 -0.044642 -0.036385  ...  0.034309 -0.033249  0.061054  146.0\n",
              "204    1.0  0.110727  0.050680  0.006728  ...  0.034309  0.002008  0.077622  277.0\n",
              "263    1.0 -0.074533  0.050680 -0.077342  ... -0.039493 -0.072128 -0.017646  116.0\n",
              "285    1.0  0.012648 -0.044642 -0.020218  ...  0.108111  0.059881 -0.021788  233.0\n",
              "..     ...       ...       ...       ...  ...       ...       ...       ...    ...\n",
              "230    1.0 -0.038207  0.050680  0.071397  ...  0.071948  0.050276  0.069338  220.0\n",
              "98     1.0  0.001751  0.050680 -0.005128  ... -0.039493 -0.006080 -0.067351   92.0\n",
              "322    1.0  0.023546  0.050680  0.061696  ...  0.155345  0.133396  0.081764  242.0\n",
              "382    1.0  0.048974 -0.044642  0.060618  ... -0.002592  0.104138  0.036201  132.0\n",
              "365    1.0  0.034443 -0.044642 -0.038540  ... -0.002592  0.031193  0.098333  206.0\n",
              "\n",
              "[309 rows x 11 columns]"
            ]
          },
          "metadata": {
            "tags": []
          },
          "execution_count": 19
        }
      ]
    },
    {
      "cell_type": "code",
      "metadata": {
        "id": "JBtkPr_K5tSG"
      },
      "source": [
        "vif = pd.DataFrame()\r\n",
        "vif['feature'] = train_x.drop(columns='y').columns\r\n",
        "vif['VIF Factor'] = [variance_inflation_factor(train_x.drop(columns='y').values, i) for i in range(train_x.drop(columns='y').shape[1])]"
      ],
      "execution_count": null,
      "outputs": []
    },
    {
      "cell_type": "code",
      "metadata": {
        "colab": {
          "base_uri": "https://localhost:8080/"
        },
        "id": "j5wk3wRg54aG",
        "outputId": "b02624cb-6084-4780-a8eb-990bf5c2ef46"
      },
      "source": [
        "# vif 확인 후 다중공선성 높게 나타난 변수 제거 drop\r\n",
        "print('제거후')\r\n",
        "print(vif)"
      ],
      "execution_count": null,
      "outputs": [
        {
          "output_type": "stream",
          "text": [
            "제거후\n",
            "  feature  VIF Factor\n",
            "0   const    1.005335\n",
            "1     age    1.196224\n",
            "2     sex    1.282946\n",
            "3     bmi    1.516272\n",
            "4      bp    1.417268\n",
            "5      s2    3.052908\n",
            "6      s3    3.858518\n",
            "7      s4    8.467318\n",
            "8      s5    2.350765\n",
            "9      s6    1.537046\n"
          ],
          "name": "stdout"
        }
      ]
    },
    {
      "cell_type": "code",
      "metadata": {
        "id": "co1ZKYB859z-"
      },
      "source": [
        "# 제거한 후 학습\r\n",
        "test_x = test_x.drop(columns=['s1'])"
      ],
      "execution_count": null,
      "outputs": []
    },
    {
      "cell_type": "code",
      "metadata": {
        "colab": {
          "base_uri": "https://localhost:8080/",
          "height": 204
        },
        "id": "p4D_igSf6i81",
        "outputId": "42ddbdd1-30a1-4b21-c300-13fbff3ad14e"
      },
      "source": [
        "test_x.head()"
      ],
      "execution_count": null,
      "outputs": [
        {
          "output_type": "execute_result",
          "data": {
            "text/html": [
              "<div>\n",
              "<style scoped>\n",
              "    .dataframe tbody tr th:only-of-type {\n",
              "        vertical-align: middle;\n",
              "    }\n",
              "\n",
              "    .dataframe tbody tr th {\n",
              "        vertical-align: top;\n",
              "    }\n",
              "\n",
              "    .dataframe thead th {\n",
              "        text-align: right;\n",
              "    }\n",
              "</style>\n",
              "<table border=\"1\" class=\"dataframe\">\n",
              "  <thead>\n",
              "    <tr style=\"text-align: right;\">\n",
              "      <th></th>\n",
              "      <th>const</th>\n",
              "      <th>age</th>\n",
              "      <th>sex</th>\n",
              "      <th>bmi</th>\n",
              "      <th>bp</th>\n",
              "      <th>s2</th>\n",
              "      <th>s3</th>\n",
              "      <th>s4</th>\n",
              "      <th>s5</th>\n",
              "      <th>s6</th>\n",
              "      <th>y</th>\n",
              "    </tr>\n",
              "  </thead>\n",
              "  <tbody>\n",
              "    <tr>\n",
              "      <th>13</th>\n",
              "      <td>1.0</td>\n",
              "      <td>0.005383</td>\n",
              "      <td>0.050680</td>\n",
              "      <td>-0.001895</td>\n",
              "      <td>0.008101</td>\n",
              "      <td>-0.015719</td>\n",
              "      <td>-0.002903</td>\n",
              "      <td>-0.002592</td>\n",
              "      <td>0.038393</td>\n",
              "      <td>-0.013504</td>\n",
              "      <td>185.0</td>\n",
              "    </tr>\n",
              "    <tr>\n",
              "      <th>66</th>\n",
              "      <td>1.0</td>\n",
              "      <td>-0.009147</td>\n",
              "      <td>0.050680</td>\n",
              "      <td>-0.018062</td>\n",
              "      <td>-0.033214</td>\n",
              "      <td>0.012152</td>\n",
              "      <td>-0.072854</td>\n",
              "      <td>0.071210</td>\n",
              "      <td>0.000271</td>\n",
              "      <td>0.019633</td>\n",
              "      <td>150.0</td>\n",
              "    </tr>\n",
              "    <tr>\n",
              "      <th>234</th>\n",
              "      <td>1.0</td>\n",
              "      <td>0.045341</td>\n",
              "      <td>-0.044642</td>\n",
              "      <td>0.039062</td>\n",
              "      <td>0.045972</td>\n",
              "      <td>-0.024174</td>\n",
              "      <td>0.008142</td>\n",
              "      <td>-0.012556</td>\n",
              "      <td>0.064328</td>\n",
              "      <td>0.056912</td>\n",
              "      <td>246.0</td>\n",
              "    </tr>\n",
              "    <tr>\n",
              "      <th>24</th>\n",
              "      <td>1.0</td>\n",
              "      <td>-0.063635</td>\n",
              "      <td>-0.044642</td>\n",
              "      <td>0.035829</td>\n",
              "      <td>-0.022885</td>\n",
              "      <td>-0.018850</td>\n",
              "      <td>-0.006584</td>\n",
              "      <td>-0.002592</td>\n",
              "      <td>-0.025952</td>\n",
              "      <td>-0.054925</td>\n",
              "      <td>184.0</td>\n",
              "    </tr>\n",
              "    <tr>\n",
              "      <th>388</th>\n",
              "      <td>1.0</td>\n",
              "      <td>0.052606</td>\n",
              "      <td>0.050680</td>\n",
              "      <td>-0.024529</td>\n",
              "      <td>0.056301</td>\n",
              "      <td>-0.005072</td>\n",
              "      <td>-0.021311</td>\n",
              "      <td>-0.002592</td>\n",
              "      <td>0.026714</td>\n",
              "      <td>-0.038357</td>\n",
              "      <td>110.0</td>\n",
              "    </tr>\n",
              "  </tbody>\n",
              "</table>\n",
              "</div>"
            ],
            "text/plain": [
              "     const       age       sex       bmi  ...        s4        s5        s6      y\n",
              "13     1.0  0.005383  0.050680 -0.001895  ... -0.002592  0.038393 -0.013504  185.0\n",
              "66     1.0 -0.009147  0.050680 -0.018062  ...  0.071210  0.000271  0.019633  150.0\n",
              "234    1.0  0.045341 -0.044642  0.039062  ... -0.012556  0.064328  0.056912  246.0\n",
              "24     1.0 -0.063635 -0.044642  0.035829  ... -0.002592 -0.025952 -0.054925  184.0\n",
              "388    1.0  0.052606  0.050680 -0.024529  ... -0.002592  0.026714 -0.038357  110.0\n",
              "\n",
              "[5 rows x 11 columns]"
            ]
          },
          "metadata": {
            "tags": []
          },
          "execution_count": 25
        }
      ]
    },
    {
      "cell_type": "code",
      "metadata": {
        "colab": {
          "base_uri": "https://localhost:8080/"
        },
        "id": "MQ0QUvwY6GkX",
        "outputId": "0a181db8-ce9a-4755-de7a-5277534a41bd"
      },
      "source": [
        "model = OLS(train.y, train_x.drop(columns='y')).fit()\r\n",
        "pred = model.predict(test_x.drop(columns='y'))\r\n",
        "print('제거후 : ', mean_squared_error(test.y, pred))"
      ],
      "execution_count": null,
      "outputs": [
        {
          "output_type": "stream",
          "text": [
            "제거후 :  2940.1669788600166\n"
          ],
          "name": "stdout"
        }
      ]
    },
    {
      "cell_type": "code",
      "metadata": {
        "id": "xxhNcTUp6Uk3"
      },
      "source": [
        ""
      ],
      "execution_count": null,
      "outputs": []
    }
  ]
}